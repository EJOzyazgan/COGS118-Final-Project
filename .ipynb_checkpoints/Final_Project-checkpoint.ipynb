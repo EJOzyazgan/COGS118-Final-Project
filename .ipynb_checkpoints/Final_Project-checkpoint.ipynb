{
 "cells": [
  {
   "cell_type": "code",
   "execution_count": 137,
   "metadata": {},
   "outputs": [],
   "source": [
    "import scipy.io as sio\n",
    "import matplotlib.pyplot as plt\n",
    "import numpy as np\n",
    "import pandas as pd\n",
    "import seaborn as sns\n",
    "from sklearn import svm\n",
    "from sklearn.model_selection import GridSearchCV\n",
    "from sklearn.model_selection import train_test_split\n",
    "from sklearn.linear_model import LogisticRegressionCV\n",
    "from sklearn.ensemble import RandomForestClassifier"
   ]
  },
  {
   "cell_type": "markdown",
   "metadata": {},
   "source": [
    "# Load Data"
   ]
  },
  {
   "cell_type": "markdown",
   "metadata": {},
   "source": [
    "### Mushroom"
   ]
  },
  {
   "cell_type": "code",
   "execution_count": 231,
   "metadata": {},
   "outputs": [
    {
     "name": "stdout",
     "output_type": "stream",
     "text": [
      "(8124, 118)\n"
     ]
    }
   ],
   "source": [
    "mushroom_data = pd.read_csv('agaricus-lepiota.data', header=None, sep=',')\n",
    "mushroom_data = pd.get_dummies(mushroom_data, columns=[1,2,3,4,5,6,7,8,9,10,11,12,13,14,15,16,17,18,19,20,21,22])\n",
    "\n",
    "eddible_nums = {0: {'e': 1, 'p': 0}}\n",
    "mushroom_data.replace(eddible_nums, inplace=True)\n",
    "\n",
    "print(mushroom_data.shape)"
   ]
  },
  {
   "cell_type": "code",
   "execution_count": 232,
   "metadata": {},
   "outputs": [
    {
     "name": "stdout",
     "output_type": "stream",
     "text": [
      "(6499, 117) (1625, 117) (6499,) (1625,)\n"
     ]
    }
   ],
   "source": [
    "mushroom_X_train_80 = [None] * 3\n",
    "mushroom_X_test_20 = [None] * 3    \n",
    "mushroom_Y_train_80 = [None] * 3\n",
    "mushroom_Y_test_20 = [None] * 3\n",
    "\n",
    "for i in range(3):\n",
    "    mushroom_data = mushroom_data.sample(frac=1).reset_index(drop=True)\n",
    "    mushroom_X = mushroom_data.iloc[:,1:]   \n",
    "    mushroom_Y = mushroom_data.iloc[:,0]\n",
    "    \n",
    "    mushroom_X_train_80[i], mushroom_X_test_20[i], mushroom_Y_train_80[i], mushroom_Y_test_20[i] = train_test_split(mushroom_X, mushroom_Y, test_size=0.2, random_state=0)\n",
    "\n",
    "print(mushroom_X_train_80[0].shape, mushroom_X_test_20[0].shape, mushroom_Y_train_80[0].shape, mushroom_Y_test_20[0].shape)"
   ]
  },
  {
   "cell_type": "code",
   "execution_count": 233,
   "metadata": {},
   "outputs": [
    {
     "name": "stdout",
     "output_type": "stream",
     "text": [
      "(4062, 117) (4062, 117) (4062,) (4062,)\n"
     ]
    }
   ],
   "source": [
    "mushroom_X_train_50 = [None] * 3\n",
    "mushroom_X_test_50 = [None] * 3    \n",
    "mushroom_Y_train_50 = [None] * 3\n",
    "mushroom_Y_test_50 = [None] * 3\n",
    "\n",
    "for i in range(3):\n",
    "    mushroom_data = mushroom_data.sample(frac=1).reset_index(drop=True)\n",
    "    mushroom_X = mushroom_data.iloc[:,1:]   \n",
    "    mushroom_Y = mushroom_data.iloc[:,0]\n",
    "    \n",
    "    mushroom_X_train_50[i], mushroom_X_test_50[i], mushroom_Y_train_50[i], mushroom_Y_test_50[i] = train_test_split(mushroom_X, mushroom_Y, test_size=0.5, random_state=0)\n",
    "\n",
    "print(mushroom_X_train_50[0].shape, mushroom_X_test_50[0].shape, mushroom_Y_train_50[0].shape, mushroom_Y_test_50[0].shape)"
   ]
  },
  {
   "cell_type": "code",
   "execution_count": 48,
   "metadata": {},
   "outputs": [
    {
     "name": "stdout",
     "output_type": "stream",
     "text": [
      "(1624, 117) (6500, 117) (1624,) (6500,)\n"
     ]
    }
   ],
   "source": [
    "mushroom_X_train_20 = [None] * 3\n",
    "mushroom_X_test_80 = [None] * 3   \n",
    "mushroom_Y_train_20 = [None] * 3\n",
    "mushroom_Y_test_80 = [None] * 3\n",
    "\n",
    "for i in range(3):\n",
    "    mushroom_data = mushroom_data.sample(frac=1).reset_index(drop=True)\n",
    "    mushroom_X = mushroom_data.iloc[:,1:]   \n",
    "    mushroom_Y = mushroom_data.iloc[:,0]\n",
    "\n",
    "    mushroom_X_train_20[i], mushroom_X_test_80[i], mushroom_Y_train_20[i], mushroom_Y_test_80[i] = train_test_split(mushroom_X, mushroom_Y, test_size=0.8, random_state=0)\n",
    "\n",
    "print(mushroom_X_train_20[0].shape, mushroom_X_test_80[0].shape, mushroom_Y_train_20[0].shape, mushroom_Y_test_80[0].shape)"
   ]
  },
  {
   "cell_type": "markdown",
   "metadata": {},
   "source": [
    "### Wine"
   ]
  },
  {
   "cell_type": "code",
   "execution_count": 90,
   "metadata": {},
   "outputs": [
    {
     "name": "stdout",
     "output_type": "stream",
     "text": [
      "(2000, 12)\n"
     ]
    }
   ],
   "source": [
    "wine_data = pd.read_csv('winequality-white.csv', sep=';')\n",
    "wine_data = wine_data.iloc[:2000,:]\n",
    "\n",
    "# mushroom_data = pd.read_csv('agaricus-lepiota.data', header=None, sep=',')\n",
    "# mushroom_data = pd.get_dummies(mushroom_data, columns=[1,2,3,4,5,6,7,8,9,10,11,12,13,14,15,16,17,18,19,20,21,22])\n",
    "\n",
    "# eddible_nums = {0: {'e': 1, 'p': 0}}\n",
    "# mushroom_data.replace(eddible_nums, inplace=True)\n",
    "\n",
    "print(wine_data.shape)"
   ]
  },
  {
   "cell_type": "code",
   "execution_count": 91,
   "metadata": {},
   "outputs": [
    {
     "name": "stdout",
     "output_type": "stream",
     "text": [
      "(1600, 11) (400, 11) (1600,) (400,)\n"
     ]
    }
   ],
   "source": [
    "wine_X_train_80 = [None] * 3\n",
    "wine_X_test_20 = [None] * 3 \n",
    "wine_Y_train_80 = [None] * 3\n",
    "wine_Y_test_20 = [None] * 3\n",
    "\n",
    "for i in range(3):\n",
    "    wine_data = wine_data.sample(frac=1).reset_index(drop=True)\n",
    "    wine_X = wine_data.iloc[:,:-1]   \n",
    "    wine_Y = wine_data.iloc[:,-1]\n",
    "\n",
    "    wine_X_train_80[i], wine_X_test_20[i], wine_Y_train_80[i], wine_Y_test_20[i] = train_test_split(wine_X, wine_Y, test_size=0.2, random_state=0)\n",
    "\n",
    "print(wine_X_train_80[0].shape, wine_X_test_20[0].shape, wine_Y_train_80[0].shape, wine_Y_test_20[0].shape)"
   ]
  },
  {
   "cell_type": "code",
   "execution_count": 92,
   "metadata": {},
   "outputs": [
    {
     "name": "stdout",
     "output_type": "stream",
     "text": [
      "(1000, 11) (1000, 11) (1000,) (1000,)\n"
     ]
    }
   ],
   "source": [
    "wine_X_train_50 = [None] * 3\n",
    "wine_X_test_50 = [None] * 3   \n",
    "wine_Y_train_50 = [None] * 3\n",
    "wine_Y_test_50 = [None] * 3\n",
    "\n",
    "for i in range(3):\n",
    "    wine_data = wine_data.sample(frac=1).reset_index(drop=True)\n",
    "    wine_X = wine_data.iloc[:,:-1]   \n",
    "    wine_Y = wine_data.iloc[:,-1]\n",
    "\n",
    "    wine_X_train_50[i], wine_X_test_50[i], wine_Y_train_50[i], wine_Y_test_50[i] = train_test_split(wine_X, wine_Y, test_size=0.5, random_state=0)\n",
    "\n",
    "print(wine_X_train_50[0].shape, wine_X_test_50[0].shape, wine_Y_train_50[0].shape, wine_Y_test_50[0].shape)"
   ]
  },
  {
   "cell_type": "code",
   "execution_count": 110,
   "metadata": {},
   "outputs": [
    {
     "name": "stdout",
     "output_type": "stream",
     "text": [
      "(400, 11) (1600, 11) (400,) (1600,)\n"
     ]
    }
   ],
   "source": [
    "wine_X_train_20 = [None] * 3\n",
    "wine_X_test_80 = [None] * 3    \n",
    "wine_Y_train_20 = [None] * 3\n",
    "wine_Y_test_80 = [None] * 3\n",
    "\n",
    "for i in range(3):\n",
    "    wine_data = wine_data.sample(frac=1).reset_index(drop=True)\n",
    "    wine_X = wine_data.iloc[:,:-1]   \n",
    "    wine_Y = wine_data.iloc[:,-1]\n",
    "    \n",
    "    wine_X_train_20[i], wine_X_test_80[i], wine_Y_train_20[i], wine_Y_test_80[i] = train_test_split(wine_X, wine_Y, test_size=0.8, random_state=0)\n",
    "\n",
    "print(wine_X_train_20[0].shape, wine_X_test_80[0].shape, wine_Y_train_20[0].shape, wine_Y_test_80[0].shape)"
   ]
  },
  {
   "cell_type": "markdown",
   "metadata": {},
   "source": [
    "### Dota"
   ]
  },
  {
   "cell_type": "code",
   "execution_count": 11,
   "metadata": {},
   "outputs": [
    {
     "name": "stdout",
     "output_type": "stream",
     "text": [
      "(5000, 117)\n"
     ]
    }
   ],
   "source": [
    "dota_data = pd.read_csv('dota2Train.csv', header=None, sep=',')\n",
    "dota_data = dota_data.iloc[:5000,:]\n",
    "\n",
    "print(dota_data.shape)"
   ]
  },
  {
   "cell_type": "code",
   "execution_count": 54,
   "metadata": {},
   "outputs": [
    {
     "name": "stdout",
     "output_type": "stream",
     "text": [
      "(4000, 116) (1000, 116) (4000,) (1000,)\n"
     ]
    }
   ],
   "source": [
    "dota_X_train_80 = [None] * 3\n",
    "dota_X_test_20 = [None] * 3    \n",
    "dota_Y_train_80 = [None] * 3\n",
    "dota_Y_test_20 = [None] * 3\n",
    "\n",
    "for i in range(3):\n",
    "    dota_data = dota_data.sample(frac=1).reset_index(drop=True)\n",
    "    dota_X = dota_data.iloc[:,1:]   \n",
    "    dota_Y = dota_data.iloc[:,0]\n",
    "\n",
    "    dota_X_train_80[i], dota_X_test_20[i], dota_Y_train_80[i], dota_Y_test_20[i] = train_test_split(dota_X, dota_Y, test_size=0.2, random_state=0)\n",
    "\n",
    "print(dota_X_train_80[0].shape, dota_X_test_20[0].shape, dota_Y_train_80[0].shape, dota_Y_test_20[0].shape)"
   ]
  },
  {
   "cell_type": "code",
   "execution_count": 53,
   "metadata": {},
   "outputs": [
    {
     "name": "stdout",
     "output_type": "stream",
     "text": [
      "(2500, 116) (2500, 116) (2500,) (2500,)\n"
     ]
    }
   ],
   "source": [
    "dota_X_train_50 = [None] * 3\n",
    "dota_X_test_50 = [None] * 3    \n",
    "dota_Y_train_50 = [None] * 3\n",
    "dota_Y_test_50 = [None] * 3\n",
    "\n",
    "for i in range(3):\n",
    "    dota_data = dota_data.sample(frac=1).reset_index(drop=True)\n",
    "    dota_X = dota_data.iloc[:,1:]   \n",
    "    dota_Y = dota_data.iloc[:,0]\n",
    "\n",
    "    dota_X_train_50[i], dota_X_test_50[i], dota_Y_train_50[i], dota_Y_test_50[i] = train_test_split(dota_X, dota_Y, test_size=0.5, random_state=0)\n",
    "\n",
    "print(dota_X_train_50[0].shape, dota_X_test_50[0].shape, dota_Y_train_50[0].shape, dota_Y_test_50[0].shape)"
   ]
  },
  {
   "cell_type": "code",
   "execution_count": 52,
   "metadata": {},
   "outputs": [
    {
     "name": "stdout",
     "output_type": "stream",
     "text": [
      "(1000, 116) (4000, 116) (1000,) (4000,)\n"
     ]
    }
   ],
   "source": [
    "dota_X_train_20 = [None] * 3\n",
    "dota_X_test_80 = [None] * 3    \n",
    "dota_Y_train_20 = [None] * 3\n",
    "dota_Y_test_80 = [None] * 3\n",
    "\n",
    "for i in range(3):\n",
    "    dota_data = dota_data.sample(frac=1).reset_index(drop=True)\n",
    "    dota_X = dota_data.iloc[:,1:]   \n",
    "    dota_Y = dota_data.iloc[:,0]\n",
    "\n",
    "    dota_X_train_20[i], dota_X_test_80[i], dota_Y_train_20[i], dota_Y_test_80[i] = train_test_split(dota_X, dota_Y, test_size=0.8, random_state=0)\n",
    "\n",
    "print(dota_X_train_20[0].shape, dota_X_test_80[0].shape, dota_Y_train_20[0].shape, dota_Y_test_80[0].shape)"
   ]
  },
  {
   "cell_type": "markdown",
   "metadata": {},
   "source": [
    "# Helper Methods"
   ]
  },
  {
   "cell_type": "code",
   "execution_count": 234,
   "metadata": {},
   "outputs": [],
   "source": [
    "def draw_heatmap_linear(acc, acc_desc, C_list):\n",
    "    plt.figure(figsize = (2,4))\n",
    "    ax = sns.heatmap(acc, annot=True, fmt='.3f', yticklabels=C_list, xticklabels=[])\n",
    "    ax.collections[0].colorbar.set_label(\"accuracy\")\n",
    "    ax.set(ylabel='$C$')\n",
    "    plt.title(acc_desc + ' w.r.t $C$')\n",
    "    sns.set_style(\"whitegrid\", {'axes.grid' : False})\n",
    "    plt.show()"
   ]
  },
  {
   "cell_type": "markdown",
   "metadata": {},
   "source": [
    "# Classifiers"
   ]
  },
  {
   "cell_type": "code",
   "execution_count": 249,
   "metadata": {},
   "outputs": [],
   "source": [
    "C_list = [10**-3, 10**-2, 10**-1, 10**0]\n",
    "G_list = [0.001, 0.005,0.01, 0.05]"
   ]
  },
  {
   "cell_type": "markdown",
   "metadata": {},
   "source": [
    "## Linear SVM"
   ]
  },
  {
   "cell_type": "markdown",
   "metadata": {},
   "source": [
    "### Mushroom"
   ]
  },
  {
   "cell_type": "markdown",
   "metadata": {},
   "source": [
    "#### 80 / 20"
   ]
  },
  {
   "cell_type": "code",
   "execution_count": 250,
   "metadata": {},
   "outputs": [
    {
     "name": "stdout",
     "output_type": "stream",
     "text": [
      "0\n",
      "1\n",
      "2\n"
     ]
    }
   ],
   "source": [
    "clfs = []\n",
    "\n",
    "for i in range(3):\n",
    "    clf = GridSearchCV(cv=5, estimator=svm.SVC(), param_grid=[{'C': C_list, 'kernel': ['linear'], 'gamma': G_list}], n_jobs=-1)\n",
    "    clf.fit(mushroom_X_train_80[i].values, mushroom_Y_train_80[i].values)\n",
    "    clfs.append(clf)\n",
    "    print(i)"
   ]
  },
  {
   "cell_type": "code",
   "execution_count": 253,
   "metadata": {},
   "outputs": [
    {
     "name": "stdout",
     "output_type": "stream",
     "text": [
      "0\n"
     ]
    },
    {
     "name": "stderr",
     "output_type": "stream",
     "text": [
      "C:\\Users\\ejozy\\Anaconda3\\lib\\site-packages\\sklearn\\utils\\deprecation.py:125: FutureWarning: You are accessing a training score ('mean_train_score'), which will not be available by default any more in 0.21. If you need training scores, please set return_train_score=True\n",
      "  warnings.warn(*warn_args, **warn_kwargs)\n"
     ]
    },
    {
     "name": "stdout",
     "output_type": "stream",
     "text": [
      "1\n"
     ]
    },
    {
     "name": "stderr",
     "output_type": "stream",
     "text": [
      "C:\\Users\\ejozy\\Anaconda3\\lib\\site-packages\\sklearn\\utils\\deprecation.py:125: FutureWarning: You are accessing a training score ('mean_train_score'), which will not be available by default any more in 0.21. If you need training scores, please set return_train_score=True\n",
      "  warnings.warn(*warn_args, **warn_kwargs)\n"
     ]
    },
    {
     "name": "stdout",
     "output_type": "stream",
     "text": [
      "2\n"
     ]
    }
   ],
   "source": [
    "train_accs = []\n",
    "val_accs = []\n",
    "test_accs = []\n",
    "\n",
    "for i in range(3):\n",
    "    train_accs.append(max(clfs[i].cv_results_['mean_train_score'].reshape((16, 1))))\n",
    "    val_accs.append(max(clfs[i].cv_results_['mean_train_score'].reshape((16, 1))))\n",
    "    test_accs.append(svm.SVC(C=clfs[i].best_estimator_.C, kernel='linear', gamma=clfs[i].best_estimator_.gamma).fit(mushroom_X_train_80[i],mushroom_Y_train_80[i]).score(mushroom_X_test_20[i], mushroom_Y_test_20[i]))\n",
    "    print(i)\n"
   ]
  },
  {
   "cell_type": "code",
   "execution_count": 254,
   "metadata": {},
   "outputs": [
    {
     "name": "stdout",
     "output_type": "stream",
     "text": [
      "Best Accuracy: [1.]\n"
     ]
    }
   ],
   "source": [
    "accs = []\n",
    "\n",
    "for i in range(3):\n",
    "    accs.append((train_accs[i] + val_accs[i] + test_accs[i])/3)\n",
    "\n",
    "print('Best Accuracy: ' + str(max(accs)))"
   ]
  },
  {
   "cell_type": "markdown",
   "metadata": {},
   "source": [
    "#### 50 / 50"
   ]
  },
  {
   "cell_type": "code",
   "execution_count": 19,
   "metadata": {},
   "outputs": [
    {
     "name": "stdout",
     "output_type": "stream",
     "text": [
      "0\n",
      "1\n",
      "2\n"
     ]
    }
   ],
   "source": [
    "clfs = []\n",
    "\n",
    "for i in range(3):\n",
    "    clf = GridSearchCV(cv=5, estimator=svm.SVC(), param_grid=[{'C': C_list, 'kernel': ['linear'], 'gamma': G_list}], n_jobs=-1)\n",
    "    clf.fit(mushroom_X_train_50[i].values, mushroom_Y_train_50[i].values)\n",
    "    clfs.append(clf)\n",
    "    print(i)"
   ]
  },
  {
   "cell_type": "code",
   "execution_count": 20,
   "metadata": {},
   "outputs": [
    {
     "name": "stderr",
     "output_type": "stream",
     "text": [
      "C:\\Users\\ejozy\\Anaconda3\\lib\\site-packages\\sklearn\\utils\\deprecation.py:125: FutureWarning: You are accessing a training score ('mean_train_score'), which will not be available by default any more in 0.21. If you need training scores, please set return_train_score=True\n",
      "  warnings.warn(*warn_args, **warn_kwargs)\n"
     ]
    },
    {
     "name": "stdout",
     "output_type": "stream",
     "text": [
      "0\n",
      "1\n"
     ]
    },
    {
     "name": "stderr",
     "output_type": "stream",
     "text": [
      "C:\\Users\\ejozy\\Anaconda3\\lib\\site-packages\\sklearn\\utils\\deprecation.py:125: FutureWarning: You are accessing a training score ('mean_train_score'), which will not be available by default any more in 0.21. If you need training scores, please set return_train_score=True\n",
      "  warnings.warn(*warn_args, **warn_kwargs)\n",
      "C:\\Users\\ejozy\\Anaconda3\\lib\\site-packages\\sklearn\\utils\\deprecation.py:125: FutureWarning: You are accessing a training score ('mean_train_score'), which will not be available by default any more in 0.21. If you need training scores, please set return_train_score=True\n",
      "  warnings.warn(*warn_args, **warn_kwargs)\n"
     ]
    },
    {
     "name": "stdout",
     "output_type": "stream",
     "text": [
      "2\n"
     ]
    }
   ],
   "source": [
    "train_accs = []\n",
    "val_accs = []\n",
    "test_accs = []\n",
    "\n",
    "for i in range(3):\n",
    "    train_accs.append(max(clfs[i].cv_results_['mean_train_score'].reshape((16, 1))))\n",
    "    val_accs.append(max(clfs[i].cv_results_['mean_train_score'].reshape((16, 1))))\n",
    "    test_accs.append(svm.SVC(C=clfs[i].best_estimator_.C, kernel='linear', gamma=clfs[i].best_estimator_.gamma).fit(mushroom_X_train_50[i],mushroom_Y_train_50[i]).score(mushroom_X_test_50[i], mushroom_Y_test_50[i]))\n",
    "    print(i)\n"
   ]
  },
  {
   "cell_type": "code",
   "execution_count": 21,
   "metadata": {},
   "outputs": [
    {
     "name": "stdout",
     "output_type": "stream",
     "text": [
      "Best Accuracy: [1.]\n"
     ]
    }
   ],
   "source": [
    "accs = []\n",
    "\n",
    "for i in range(3):\n",
    "    accs.append((train_accs[i] + val_accs[i] + test_accs[i])/3)\n",
    "\n",
    "print('Best Accuracy: ' + str(max(accs)))"
   ]
  },
  {
   "cell_type": "markdown",
   "metadata": {},
   "source": [
    "#### 20  / 80"
   ]
  },
  {
   "cell_type": "code",
   "execution_count": 22,
   "metadata": {},
   "outputs": [
    {
     "name": "stdout",
     "output_type": "stream",
     "text": [
      "0\n",
      "1\n",
      "2\n"
     ]
    }
   ],
   "source": [
    "clfs = []\n",
    "\n",
    "for i in range(3):\n",
    "    clf = GridSearchCV(cv=5, estimator=svm.SVC(), param_grid=[{'C': C_list, 'kernel': ['linear'], 'gamma': G_list}], n_jobs=-1)\n",
    "    clf.fit(mushroom_X_train_20[i].values, mushroom_Y_train_20[i].values)\n",
    "    clfs.append(clf)\n",
    "    print(i)"
   ]
  },
  {
   "cell_type": "code",
   "execution_count": 23,
   "metadata": {},
   "outputs": [
    {
     "name": "stdout",
     "output_type": "stream",
     "text": [
      "0\n"
     ]
    },
    {
     "name": "stderr",
     "output_type": "stream",
     "text": [
      "C:\\Users\\ejozy\\Anaconda3\\lib\\site-packages\\sklearn\\utils\\deprecation.py:125: FutureWarning: You are accessing a training score ('mean_train_score'), which will not be available by default any more in 0.21. If you need training scores, please set return_train_score=True\n",
      "  warnings.warn(*warn_args, **warn_kwargs)\n",
      "C:\\Users\\ejozy\\Anaconda3\\lib\\site-packages\\sklearn\\utils\\deprecation.py:125: FutureWarning: You are accessing a training score ('mean_train_score'), which will not be available by default any more in 0.21. If you need training scores, please set return_train_score=True\n",
      "  warnings.warn(*warn_args, **warn_kwargs)\n"
     ]
    },
    {
     "name": "stdout",
     "output_type": "stream",
     "text": [
      "1\n",
      "2\n"
     ]
    },
    {
     "name": "stderr",
     "output_type": "stream",
     "text": [
      "C:\\Users\\ejozy\\Anaconda3\\lib\\site-packages\\sklearn\\utils\\deprecation.py:125: FutureWarning: You are accessing a training score ('mean_train_score'), which will not be available by default any more in 0.21. If you need training scores, please set return_train_score=True\n",
      "  warnings.warn(*warn_args, **warn_kwargs)\n"
     ]
    }
   ],
   "source": [
    "train_accs = []\n",
    "val_accs = []\n",
    "test_accs = []\n",
    "\n",
    "for i in range(3):\n",
    "    train_accs.append(max(clfs[i].cv_results_['mean_train_score'].reshape((16, 1))))\n",
    "    val_accs.append(max(clfs[i].cv_results_['mean_train_score'].reshape((16, 1))))\n",
    "    test_accs.append(svm.SVC(C=clfs[i].best_estimator_.C, kernel='linear', gamma=clfs[i].best_estimator_.gamma).fit(mushroom_X_train_20[i],mushroom_Y_train_20[i]).score(mushroom_X_test_80[i], mushroom_Y_test_80[i]))\n",
    "    print(i)\n"
   ]
  },
  {
   "cell_type": "code",
   "execution_count": 24,
   "metadata": {},
   "outputs": [
    {
     "name": "stdout",
     "output_type": "stream",
     "text": [
      "Best Accuracy: [1.]\n"
     ]
    }
   ],
   "source": [
    "accs = []\n",
    "\n",
    "for i in range(3):\n",
    "    accs.append((train_accs[i] + val_accs[i] + test_accs[i])/3)\n",
    "\n",
    "print('Best Accuracy: ' + str(max(accs)))"
   ]
  },
  {
   "cell_type": "markdown",
   "metadata": {},
   "source": [
    "### Wine"
   ]
  },
  {
   "cell_type": "markdown",
   "metadata": {},
   "source": [
    "#### 80 / 20"
   ]
  },
  {
   "cell_type": "code",
   "execution_count": null,
   "metadata": {},
   "outputs": [
    {
     "name": "stderr",
     "output_type": "stream",
     "text": [
      "C:\\Users\\ejozy\\Anaconda3\\lib\\site-packages\\sklearn\\model_selection\\_split.py:652: Warning: The least populated class in y has only 3 members, which is too few. The minimum number of members in any class cannot be less than n_splits=5.\n",
      "  % (min_groups, self.n_splits)), Warning)\n"
     ]
    }
   ],
   "source": [
    "clfs = []\n",
    "\n",
    "for i in range(3):\n",
    "    clf = GridSearchCV(cv=5, estimator=svm.SVC(), param_grid=[{'C': C_list, 'kernel': ['linear'], 'gamma': G_list}], n_jobs=-1)\n",
    "    clf.fit(wine_X_train_80[i].values, wine_Y_train_80[i].values)\n",
    "    clfs.append(clf)\n",
    "    print(i)"
   ]
  },
  {
   "cell_type": "code",
   "execution_count": null,
   "metadata": {},
   "outputs": [],
   "source": [
    "train_accs = []\n",
    "val_accs = []\n",
    "test_accs = []\n",
    "\n",
    "for i in range(3):\n",
    "    train_accs.append(max(clfs[i].cv_results_['mean_train_score'].reshape((16, 1))))\n",
    "    val_accs.append(max(clfs[i].cv_results_['mean_train_score'].reshape((16, 1))))\n",
    "    test_accs.append(svm.SVC(C=clfs[i].best_estimator_.C, kernel='linear', gamma=clfs[i].best_estimator_.gamma).fit(wine_X_train_80[i],wine_Y_train_80[i]).score(wine_X_test_20[i], wine_Y_test_20[i]))\n",
    "    print(i)\n"
   ]
  },
  {
   "cell_type": "code",
   "execution_count": null,
   "metadata": {},
   "outputs": [],
   "source": [
    "accs = []\n",
    "\n",
    "for i in range(3):\n",
    "    accs.append((train_accs[i] + val_accs[i] + test_accs[i])/3)\n",
    "\n",
    "print('Best Accuracy: ' + str(max(accs)))"
   ]
  },
  {
   "cell_type": "markdown",
   "metadata": {},
   "source": [
    "#### 50 / 50"
   ]
  },
  {
   "cell_type": "code",
   "execution_count": null,
   "metadata": {},
   "outputs": [],
   "source": [
    "clfs = []\n",
    "\n",
    "for i in range(3):\n",
    "    clf = GridSearchCV(cv=5, estimator=svm.SVC(), param_grid=[{'C': C_list, 'kernel': ['linear'], 'gamma': G_list}], n_jobs=-1)\n",
    "    clf.fit(wine_X_train_50[i].values, wine_Y_train_50[i].values)\n",
    "    clfs.append(clf)\n",
    "    print(i)"
   ]
  },
  {
   "cell_type": "code",
   "execution_count": null,
   "metadata": {},
   "outputs": [],
   "source": [
    "train_accs = []\n",
    "val_accs = []\n",
    "test_accs = []\n",
    "\n",
    "for i in range(3):\n",
    "    train_accs.append(max(clfs[i].cv_results_['mean_train_score'].reshape((16, 1))))\n",
    "    val_accs.append(max(clfs[i].cv_results_['mean_train_score'].reshape((16, 1))))\n",
    "    test_accs.append(svm.SVC(C=clfs[i].best_estimator_.C, kernel='linear', gamma=clfs[i].best_estimator_.gamma).fit(wine_X_train_50[i],wine_Y_train_50[i]).score(wine_X_test_50[i], wine_Y_test_50[i]))\n",
    "    print(i)\n"
   ]
  },
  {
   "cell_type": "code",
   "execution_count": null,
   "metadata": {},
   "outputs": [],
   "source": [
    "accs = []\n",
    "\n",
    "for i in range(3):\n",
    "    accs.append((train_accs[i] + val_accs[i] + test_accs[i])/3)\n",
    "\n",
    "print('Best Accuracy: ' + str(max(accs)))"
   ]
  },
  {
   "cell_type": "markdown",
   "metadata": {},
   "source": [
    "#### 20  / 80"
   ]
  },
  {
   "cell_type": "code",
   "execution_count": null,
   "metadata": {},
   "outputs": [],
   "source": [
    "clfs = []\n",
    "\n",
    "for i in range(3):\n",
    "    clf = GridSearchCV(cv=5, estimator=svm.SVC(), param_grid=[{'C': C_list, 'kernel': ['linear'], 'gamma': G_list}], n_jobs=-1)\n",
    "    clf.fit(wine_X_train_20[i].values, wine_Y_train_20[i].values)\n",
    "    clfs.append(clf)\n",
    "    print(i)"
   ]
  },
  {
   "cell_type": "code",
   "execution_count": null,
   "metadata": {},
   "outputs": [],
   "source": [
    "train_accs = []\n",
    "val_accs = []\n",
    "test_accs = []\n",
    "\n",
    "for i in range(3):\n",
    "    train_accs.append(max(clfs[i].cv_results_['mean_train_score'].reshape((16, 1))))\n",
    "    val_accs.append(max(clfs[i].cv_results_['mean_train_score'].reshape((16, 1))))\n",
    "    test_accs.append(svm.SVC(C=clfs[i].best_estimator_.C, kernel='linear', gamma=clfs[i].best_estimator_.gamma).fit(wine_X_train_20[i],wine_Y_train_20[i]).score(wine_X_test_80[i], wine_Y_test_80[i]))\n",
    "    print(i)\n"
   ]
  },
  {
   "cell_type": "code",
   "execution_count": null,
   "metadata": {},
   "outputs": [],
   "source": [
    "accs = []\n",
    "\n",
    "for i in range(3):\n",
    "    accs.append((train_accs[i] + val_accs[i] + test_accs[i])/3)\n",
    "\n",
    "print('Best Accuracy: ' + str(max(accs)))"
   ]
  },
  {
   "cell_type": "markdown",
   "metadata": {},
   "source": [
    "### Dota"
   ]
  },
  {
   "cell_type": "markdown",
   "metadata": {},
   "source": [
    "#### 80 / 20"
   ]
  },
  {
   "cell_type": "code",
   "execution_count": 235,
   "metadata": {},
   "outputs": [
    {
     "name": "stdout",
     "output_type": "stream",
     "text": [
      "0\n",
      "1\n",
      "2\n"
     ]
    }
   ],
   "source": [
    "clfs = []\n",
    "\n",
    "for i in range(3):\n",
    "    clf = GridSearchCV(cv=5, estimator=svm.SVC(), param_grid=[{'C': C_list, 'kernel': ['linear'], 'gamma': G_list}], n_jobs=-1)\n",
    "    clf.fit(dota_X_train_80[i].values, dota_Y_train_80[i].values)\n",
    "    clfs.append(clf)\n",
    "    print(i)"
   ]
  },
  {
   "cell_type": "code",
   "execution_count": 236,
   "metadata": {},
   "outputs": [
    {
     "name": "stderr",
     "output_type": "stream",
     "text": [
      "C:\\Users\\ejozy\\Anaconda3\\lib\\site-packages\\sklearn\\utils\\deprecation.py:125: FutureWarning: You are accessing a training score ('mean_train_score'), which will not be available by default any more in 0.21. If you need training scores, please set return_train_score=True\n",
      "  warnings.warn(*warn_args, **warn_kwargs)\n"
     ]
    },
    {
     "name": "stdout",
     "output_type": "stream",
     "text": [
      "0\n"
     ]
    },
    {
     "name": "stderr",
     "output_type": "stream",
     "text": [
      "C:\\Users\\ejozy\\Anaconda3\\lib\\site-packages\\sklearn\\utils\\deprecation.py:125: FutureWarning: You are accessing a training score ('mean_train_score'), which will not be available by default any more in 0.21. If you need training scores, please set return_train_score=True\n",
      "  warnings.warn(*warn_args, **warn_kwargs)\n"
     ]
    },
    {
     "name": "stdout",
     "output_type": "stream",
     "text": [
      "1\n"
     ]
    },
    {
     "name": "stderr",
     "output_type": "stream",
     "text": [
      "C:\\Users\\ejozy\\Anaconda3\\lib\\site-packages\\sklearn\\utils\\deprecation.py:125: FutureWarning: You are accessing a training score ('mean_train_score'), which will not be available by default any more in 0.21. If you need training scores, please set return_train_score=True\n",
      "  warnings.warn(*warn_args, **warn_kwargs)\n"
     ]
    },
    {
     "name": "stdout",
     "output_type": "stream",
     "text": [
      "2\n"
     ]
    }
   ],
   "source": [
    "train_accs = []\n",
    "val_accs = []\n",
    "test_accs = []\n",
    "\n",
    "for i in range(3):\n",
    "    train_accs.append(max(clfs[i].cv_results_['mean_train_score'].reshape((16, 1))))\n",
    "    val_accs.append(max(clfs[i].cv_results_['mean_train_score'].reshape((16, 1))))\n",
    "    test_accs.append(svm.SVC(C=clfs[i].best_estimator_.C, kernel='linear', gamma=clfs[i].best_estimator_.gamma).fit(dota_X_train_80[i],dota_Y_train_80[i]).score(dota_X_test_20[i], dota_Y_test_20[i]))\n",
    "    print(i)\n"
   ]
  },
  {
   "cell_type": "code",
   "execution_count": 237,
   "metadata": {},
   "outputs": [
    {
     "name": "stdout",
     "output_type": "stream",
     "text": [
      "Best Accuracy: [0.62337498]\n"
     ]
    }
   ],
   "source": [
    "accs = []\n",
    "\n",
    "for i in range(3):\n",
    "    accs.append((train_accs[i] + val_accs[i] + test_accs[i])/3)\n",
    "\n",
    "print('Best Accuracy: ' + str(max(accs)))"
   ]
  },
  {
   "cell_type": "markdown",
   "metadata": {},
   "source": [
    "#### 50 / 50"
   ]
  },
  {
   "cell_type": "code",
   "execution_count": null,
   "metadata": {},
   "outputs": [],
   "source": [
    "clfs = []\n",
    "\n",
    "for i in range(3):\n",
    "    clf = GridSearchCV(cv=5, estimator=svm.SVC(), param_grid=[{'C': C_list, 'kernel': ['linear'], 'gamma': G_list}], n_jobs=-1)\n",
    "    clf.fit(dota_X_train_50[i].values, dota_Y_train_50[i].values)\n",
    "    clfs.append(clf)\n",
    "    print(i)"
   ]
  },
  {
   "cell_type": "code",
   "execution_count": null,
   "metadata": {},
   "outputs": [],
   "source": [
    "train_accs = []\n",
    "val_accs = []\n",
    "test_accs = []\n",
    "\n",
    "for i in range(3):\n",
    "    train_accs.append(max(clfs[i].cv_results_['mean_train_score'].reshape((16, 1))))\n",
    "    val_accs.append(max(clfs[i].cv_results_['mean_train_score'].reshape((16, 1))))\n",
    "    test_accs.append(svm.SVC(C=clfs[i].best_estimator_.C, kernel='linear', gamma=clfs[i].best_estimator_.gamma).fit(dota_X_train_50[i],dota_Y_train_50[i]).score(dota_X_test_50[i], dota_Y_test_50[i]))\n",
    "    print(i)\n"
   ]
  },
  {
   "cell_type": "code",
   "execution_count": null,
   "metadata": {},
   "outputs": [],
   "source": [
    "accs = []\n",
    "\n",
    "for i in range(3):\n",
    "    accs.append((train_accs[i] + val_accs[i] + test_accs[i])/3)\n",
    "\n",
    "print('Best Accuracy: ' + str(max(accs)))"
   ]
  },
  {
   "cell_type": "markdown",
   "metadata": {},
   "source": [
    "#### 20  / 80"
   ]
  },
  {
   "cell_type": "code",
   "execution_count": null,
   "metadata": {},
   "outputs": [],
   "source": [
    "clfs = []\n",
    "\n",
    "for i in range(3):\n",
    "    clf = GridSearchCV(cv=5, estimator=svm.SVC(), param_grid=[{'C': C_list, 'kernel': ['linear'], 'gamma': G_list}], n_jobs=-1)\n",
    "    clf.fit(dota_X_train_20[i].values, dota_Y_train_20[i].values)\n",
    "    clfs.append(clf)\n",
    "    print(i)"
   ]
  },
  {
   "cell_type": "code",
   "execution_count": null,
   "metadata": {},
   "outputs": [],
   "source": [
    "train_accs = []\n",
    "val_accs = []\n",
    "test_accs = []\n",
    "\n",
    "for i in range(3):\n",
    "    train_accs.append(max(clfs[i].cv_results_['mean_train_score'].reshape((16, 1))))\n",
    "    val_accs.append(max(clfs[i].cv_results_['mean_train_score'].reshape((16, 1))))\n",
    "    test_accs.append(svm.SVC(C=clfs[i].best_estimator_.C, kernel='linear', gamma=clfs[i].best_estimator_.gamma).fit(dota_X_train_20[i],dota_Y_train_20[i]).score(dota_X_test_80[i], dota_Y_test_80[i]))\n",
    "    print(i)\n"
   ]
  },
  {
   "cell_type": "code",
   "execution_count": null,
   "metadata": {},
   "outputs": [],
   "source": [
    "accs = []\n",
    "\n",
    "for i in range(3):\n",
    "    accs.append((train_accs[i] + val_accs[i] + test_accs[i])/3)\n",
    "\n",
    "print('Best Accuracy: ' + str(max(accs)))"
   ]
  },
  {
   "cell_type": "markdown",
   "metadata": {},
   "source": [
    "# Logistic Regression"
   ]
  },
  {
   "cell_type": "markdown",
   "metadata": {},
   "source": [
    "### Mushroom"
   ]
  },
  {
   "cell_type": "markdown",
   "metadata": {},
   "source": [
    "#### 80 / 20"
   ]
  },
  {
   "cell_type": "code",
   "execution_count": 147,
   "metadata": {},
   "outputs": [
    {
     "name": "stdout",
     "output_type": "stream",
     "text": [
      "0\n",
      "1\n",
      "2\n"
     ]
    }
   ],
   "source": [
    "logregs = []\n",
    "\n",
    "for i in range(3):\n",
    "    logreg = LogisticRegressionCV(Cs= C_list, solver='liblinear', multi_class='ovr', n_jobs=-1, cv=5)\n",
    "    logreg.fit(mushroom_X_train_80[i].values, mushroom_Y_train_80[i].values)\n",
    "    logregs.append(logreg)\n",
    "    print(i)"
   ]
  },
  {
   "cell_type": "code",
   "execution_count": 148,
   "metadata": {},
   "outputs": [
    {
     "name": "stdout",
     "output_type": "stream",
     "text": [
      "0\n",
      "1\n",
      "2\n"
     ]
    }
   ],
   "source": [
    "train_accs = []\n",
    "val_accs = []\n",
    "test_accs = []\n",
    "\n",
    "for i in range(3):\n",
    "    train_accs.append(logregs[i].score(mushroom_X_train_80[i], mushroom_Y_train_80[i]))\n",
    "    val_accs.append(logregs[i].score(mushroom_X_train_80[i], mushroom_Y_train_80[i]))\n",
    "    test_accs.append(logregs[i].score(mushroom_X_test_20[i], mushroom_Y_test_20[i]))\n",
    "    print(i)\n"
   ]
  },
  {
   "cell_type": "code",
   "execution_count": 149,
   "metadata": {},
   "outputs": [
    {
     "name": "stdout",
     "output_type": "stream",
     "text": [
      "Best Accuracy: 1.0\n"
     ]
    }
   ],
   "source": [
    "accs = []\n",
    "\n",
    "for i in range(3):\n",
    "    accs.append((train_accs[i] + val_accs[i] + test_accs[i])/3)\n",
    "\n",
    "print('Best Accuracy: ' + str(max(accs)))"
   ]
  },
  {
   "cell_type": "markdown",
   "metadata": {},
   "source": [
    "#### 50 / 50"
   ]
  },
  {
   "cell_type": "code",
   "execution_count": 182,
   "metadata": {},
   "outputs": [
    {
     "name": "stdout",
     "output_type": "stream",
     "text": [
      "0\n",
      "1\n",
      "2\n"
     ]
    }
   ],
   "source": [
    "logregs = []\n",
    "\n",
    "for i in range(3):\n",
    "    logreg = LogisticRegressionCV(Cs= C_list, solver='liblinear', multi_class='ovr', n_jobs=-1, cv=5)\n",
    "    logreg.fit(mushroom_X_train_50[i].values, mushroom_Y_train_50[i].values)\n",
    "    logregs.append(logreg)\n",
    "    print(i)"
   ]
  },
  {
   "cell_type": "code",
   "execution_count": 186,
   "metadata": {},
   "outputs": [
    {
     "name": "stdout",
     "output_type": "stream",
     "text": [
      "0\n",
      "1\n",
      "2\n"
     ]
    }
   ],
   "source": [
    "train_accs = []\n",
    "val_accs = []\n",
    "test_accs = []\n",
    "\n",
    "for i in range(3):\n",
    "    train_accs.append(logregs[i].score(mushroom_X_train_50[i], mushroom_Y_train_50[i]))\n",
    "    val_accs.append(logregs[i].score(mushroom_X_train_50[i], mushroom_Y_train_50[i]))\n",
    "    test_accs.append(logregs[i].score(mushroom_X_test_50[i], mushroom_Y_test_50[i]))\n",
    "    print(i)\n"
   ]
  },
  {
   "cell_type": "code",
   "execution_count": 187,
   "metadata": {},
   "outputs": [
    {
     "name": "stdout",
     "output_type": "stream",
     "text": [
      "Best Accuracy: 1.0\n"
     ]
    }
   ],
   "source": [
    "accs = []\n",
    "\n",
    "for i in range(3):\n",
    "    accs.append((train_accs[i] + val_accs[i] + test_accs[i])/3)\n",
    "\n",
    "print('Best Accuracy: ' + str(max(accs)))"
   ]
  },
  {
   "cell_type": "markdown",
   "metadata": {},
   "source": [
    "#### 20 / 80"
   ]
  },
  {
   "cell_type": "code",
   "execution_count": 153,
   "metadata": {},
   "outputs": [
    {
     "name": "stdout",
     "output_type": "stream",
     "text": [
      "0\n",
      "1\n",
      "2\n"
     ]
    }
   ],
   "source": [
    "logregs = []\n",
    "\n",
    "for i in range(3):\n",
    "    logreg = LogisticRegressionCV(Cs= C_list, solver='liblinear', multi_class='ovr', n_jobs=-1, cv=5)\n",
    "    logreg.fit(mushroom_X_train_20[i].values, mushroom_Y_train_20[i].values)\n",
    "    logregs.append(logreg)\n",
    "    print(i)"
   ]
  },
  {
   "cell_type": "code",
   "execution_count": 154,
   "metadata": {},
   "outputs": [
    {
     "name": "stdout",
     "output_type": "stream",
     "text": [
      "0\n",
      "1\n",
      "2\n"
     ]
    }
   ],
   "source": [
    "train_accs = []\n",
    "val_accs = []\n",
    "test_accs = []\n",
    "\n",
    "for i in range(3):\n",
    "    train_accs.append(logregs[i].score(mushroom_X_train_20[i], mushroom_Y_train_20[i]))\n",
    "    val_accs.append(logregs[i].score(mushroom_X_train_20[i], mushroom_Y_train_20[i]))\n",
    "    test_accs.append(logregs[i].score(mushroom_X_test_80[i], mushroom_Y_test_80[i]))\n",
    "    print(i)\n"
   ]
  },
  {
   "cell_type": "code",
   "execution_count": 155,
   "metadata": {},
   "outputs": [
    {
     "name": "stdout",
     "output_type": "stream",
     "text": [
      "Best Accuracy: 0.9993846153846153\n"
     ]
    }
   ],
   "source": [
    "accs = []\n",
    "\n",
    "for i in range(3):\n",
    "    accs.append((train_accs[i] + val_accs[i] + test_accs[i])/3)\n",
    "\n",
    "print('Best Accuracy: ' + str(max(accs)))"
   ]
  },
  {
   "cell_type": "markdown",
   "metadata": {},
   "source": [
    "### Wine"
   ]
  },
  {
   "cell_type": "markdown",
   "metadata": {},
   "source": [
    "#### 80 / 20"
   ]
  },
  {
   "cell_type": "code",
   "execution_count": 156,
   "metadata": {},
   "outputs": [
    {
     "name": "stderr",
     "output_type": "stream",
     "text": [
      "C:\\Users\\ejozy\\Anaconda3\\lib\\site-packages\\sklearn\\model_selection\\_split.py:652: Warning: The least populated class in y has only 3 members, which is too few. The minimum number of members in any class cannot be less than n_splits=5.\n",
      "  % (min_groups, self.n_splits)), Warning)\n"
     ]
    },
    {
     "name": "stdout",
     "output_type": "stream",
     "text": [
      "0\n"
     ]
    },
    {
     "name": "stderr",
     "output_type": "stream",
     "text": [
      "C:\\Users\\ejozy\\Anaconda3\\lib\\site-packages\\sklearn\\model_selection\\_split.py:652: Warning: The least populated class in y has only 3 members, which is too few. The minimum number of members in any class cannot be less than n_splits=5.\n",
      "  % (min_groups, self.n_splits)), Warning)\n"
     ]
    },
    {
     "name": "stdout",
     "output_type": "stream",
     "text": [
      "1\n",
      "2\n"
     ]
    }
   ],
   "source": [
    "logregs = []\n",
    "\n",
    "for i in range(3):\n",
    "    logreg = LogisticRegressionCV(Cs= C_list, solver='liblinear', multi_class='ovr', n_jobs=-1, cv=5)\n",
    "    logreg.fit(wine_X_train_80[i].values, wine_Y_train_80[i].values)\n",
    "    logregs.append(logreg)\n",
    "    print(i)"
   ]
  },
  {
   "cell_type": "code",
   "execution_count": 157,
   "metadata": {},
   "outputs": [
    {
     "name": "stdout",
     "output_type": "stream",
     "text": [
      "0\n",
      "1\n",
      "2\n"
     ]
    }
   ],
   "source": [
    "train_accs = []\n",
    "val_accs = []\n",
    "test_accs = []\n",
    "\n",
    "for i in range(3):\n",
    "    train_accs.append(logregs[i].score(wine_X_train_80[i], wine_Y_train_80[i]))\n",
    "    val_accs.append(logregs[i].score(wine_X_train_80[i], wine_Y_train_80[i]))\n",
    "    test_accs.append(logregs[i].score(wine_X_test_20[i], wine_Y_test_20[i]))\n",
    "    print(i)\n"
   ]
  },
  {
   "cell_type": "code",
   "execution_count": 158,
   "metadata": {},
   "outputs": [
    {
     "name": "stdout",
     "output_type": "stream",
     "text": [
      "Best Accuracy: 0.5058333333333334\n"
     ]
    }
   ],
   "source": [
    "accs = []\n",
    "\n",
    "for i in range(3):\n",
    "    accs.append((train_accs[i] + val_accs[i] + test_accs[i])/3)\n",
    "\n",
    "print('Best Accuracy: ' + str(max(accs)))"
   ]
  },
  {
   "cell_type": "markdown",
   "metadata": {},
   "source": [
    "#### 50 / 50"
   ]
  },
  {
   "cell_type": "code",
   "execution_count": 159,
   "metadata": {},
   "outputs": [
    {
     "name": "stderr",
     "output_type": "stream",
     "text": [
      "C:\\Users\\ejozy\\Anaconda3\\lib\\site-packages\\sklearn\\model_selection\\_split.py:652: Warning: The least populated class in y has only 3 members, which is too few. The minimum number of members in any class cannot be less than n_splits=5.\n",
      "  % (min_groups, self.n_splits)), Warning)\n"
     ]
    },
    {
     "name": "stdout",
     "output_type": "stream",
     "text": [
      "0\n"
     ]
    },
    {
     "name": "stderr",
     "output_type": "stream",
     "text": [
      "C:\\Users\\ejozy\\Anaconda3\\lib\\site-packages\\sklearn\\model_selection\\_split.py:652: Warning: The least populated class in y has only 2 members, which is too few. The minimum number of members in any class cannot be less than n_splits=5.\n",
      "  % (min_groups, self.n_splits)), Warning)\n"
     ]
    },
    {
     "name": "stdout",
     "output_type": "stream",
     "text": [
      "1\n"
     ]
    },
    {
     "name": "stderr",
     "output_type": "stream",
     "text": [
      "C:\\Users\\ejozy\\Anaconda3\\lib\\site-packages\\sklearn\\model_selection\\_split.py:652: Warning: The least populated class in y has only 3 members, which is too few. The minimum number of members in any class cannot be less than n_splits=5.\n",
      "  % (min_groups, self.n_splits)), Warning)\n"
     ]
    },
    {
     "name": "stdout",
     "output_type": "stream",
     "text": [
      "2\n"
     ]
    }
   ],
   "source": [
    "logregs = []\n",
    "\n",
    "for i in range(3):\n",
    "    logreg = LogisticRegressionCV(Cs= C_list, solver='liblinear', multi_class='ovr', n_jobs=-1, cv=5)\n",
    "    logreg.fit(wine_X_train_50[i].values, wine_Y_train_50[i].values)\n",
    "    logregs.append(logreg)\n",
    "    print(i)"
   ]
  },
  {
   "cell_type": "code",
   "execution_count": 160,
   "metadata": {},
   "outputs": [
    {
     "name": "stdout",
     "output_type": "stream",
     "text": [
      "0\n",
      "1\n",
      "2\n"
     ]
    }
   ],
   "source": [
    "train_accs = []\n",
    "val_accs = []\n",
    "test_accs = []\n",
    "\n",
    "for i in range(3):\n",
    "    train_accs.append(logregs[i].score(wine_X_train_50[i], wine_Y_train_50[i]))\n",
    "    val_accs.append(logregs[i].score(wine_X_train_50[i], wine_Y_train_50[i]))\n",
    "    test_accs.append(logregs[i].score(wine_X_test_50[i], wine_Y_test_50[i]))\n",
    "    print(i)\n"
   ]
  },
  {
   "cell_type": "code",
   "execution_count": 161,
   "metadata": {},
   "outputs": [
    {
     "name": "stdout",
     "output_type": "stream",
     "text": [
      "Best Accuracy: 0.509\n"
     ]
    }
   ],
   "source": [
    "accs = []\n",
    "\n",
    "for i in range(3):\n",
    "    accs.append((train_accs[i] + val_accs[i] + test_accs[i])/3)\n",
    "\n",
    "print('Best Accuracy: ' + str(max(accs)))"
   ]
  },
  {
   "cell_type": "markdown",
   "metadata": {},
   "source": [
    "#### 20 / 80"
   ]
  },
  {
   "cell_type": "code",
   "execution_count": 162,
   "metadata": {},
   "outputs": [
    {
     "name": "stderr",
     "output_type": "stream",
     "text": [
      "C:\\Users\\ejozy\\Anaconda3\\lib\\site-packages\\sklearn\\model_selection\\_split.py:652: Warning: The least populated class in y has only 1 members, which is too few. The minimum number of members in any class cannot be less than n_splits=5.\n",
      "  % (min_groups, self.n_splits)), Warning)\n"
     ]
    },
    {
     "ename": "ValueError",
     "evalue": "This solver needs samples of at least 2 classes in the data, but the data contains only one class: -1.0",
     "output_type": "error",
     "traceback": [
      "\u001b[1;31m---------------------------------------------------------------------------\u001b[0m",
      "\u001b[1;31m_RemoteTraceback\u001b[0m                          Traceback (most recent call last)",
      "\u001b[1;31m_RemoteTraceback\u001b[0m: \n\"\"\"\nTraceback (most recent call last):\n  File \"C:\\Users\\ejozy\\Anaconda3\\lib\\site-packages\\sklearn\\externals\\joblib\\externals\\loky\\process_executor.py\", line 418, in _process_worker\n    r = call_item()\n  File \"C:\\Users\\ejozy\\Anaconda3\\lib\\site-packages\\sklearn\\externals\\joblib\\externals\\loky\\process_executor.py\", line 272, in __call__\n    return self.fn(*self.args, **self.kwargs)\n  File \"C:\\Users\\ejozy\\Anaconda3\\lib\\site-packages\\sklearn\\externals\\joblib\\_parallel_backends.py\", line 567, in __call__\n    return self.func(*args, **kwargs)\n  File \"C:\\Users\\ejozy\\Anaconda3\\lib\\site-packages\\sklearn\\externals\\joblib\\parallel.py\", line 225, in __call__\n    for func, args, kwargs in self.items]\n  File \"C:\\Users\\ejozy\\Anaconda3\\lib\\site-packages\\sklearn\\externals\\joblib\\parallel.py\", line 225, in <listcomp>\n    for func, args, kwargs in self.items]\n  File \"C:\\Users\\ejozy\\Anaconda3\\lib\\site-packages\\sklearn\\linear_model\\logistic.py\", line 959, in _log_reg_scoring_path\n    sample_weight=sample_weight)\n  File \"C:\\Users\\ejozy\\Anaconda3\\lib\\site-packages\\sklearn\\linear_model\\logistic.py\", line 770, in logistic_regression_path\n    sample_weight=sample_weight)\n  File \"C:\\Users\\ejozy\\Anaconda3\\lib\\site-packages\\sklearn\\svm\\base.py\", line 881, in _fit_liblinear\n    \" class: %r\" % classes_[0])\nValueError: This solver needs samples of at least 2 classes in the data, but the data contains only one class: -1.0\n\"\"\"",
      "\nThe above exception was the direct cause of the following exception:\n",
      "\u001b[1;31mValueError\u001b[0m                                Traceback (most recent call last)",
      "\u001b[1;32m<ipython-input-162-73a57ce529ba>\u001b[0m in \u001b[0;36m<module>\u001b[1;34m\u001b[0m\n\u001b[0;32m      5\u001b[0m \u001b[1;32mfor\u001b[0m \u001b[0mi\u001b[0m \u001b[1;32min\u001b[0m \u001b[0mrange\u001b[0m\u001b[1;33m(\u001b[0m\u001b[1;36m3\u001b[0m\u001b[1;33m)\u001b[0m\u001b[1;33m:\u001b[0m\u001b[1;33m\u001b[0m\u001b[1;33m\u001b[0m\u001b[0m\n\u001b[0;32m      6\u001b[0m     \u001b[0mlogreg\u001b[0m \u001b[1;33m=\u001b[0m \u001b[0mLogisticRegressionCV\u001b[0m\u001b[1;33m(\u001b[0m\u001b[0mCs\u001b[0m\u001b[1;33m=\u001b[0m \u001b[0mC_list\u001b[0m\u001b[1;33m,\u001b[0m \u001b[0msolver\u001b[0m\u001b[1;33m=\u001b[0m\u001b[1;34m'liblinear'\u001b[0m\u001b[1;33m,\u001b[0m \u001b[0mmulti_class\u001b[0m\u001b[1;33m=\u001b[0m\u001b[1;34m'ovr'\u001b[0m\u001b[1;33m,\u001b[0m \u001b[0mn_jobs\u001b[0m\u001b[1;33m=\u001b[0m\u001b[1;33m-\u001b[0m\u001b[1;36m1\u001b[0m\u001b[1;33m,\u001b[0m \u001b[0mcv\u001b[0m\u001b[1;33m=\u001b[0m\u001b[1;36m5\u001b[0m\u001b[1;33m)\u001b[0m\u001b[1;33m\u001b[0m\u001b[1;33m\u001b[0m\u001b[0m\n\u001b[1;32m----> 7\u001b[1;33m     \u001b[0mlogreg\u001b[0m\u001b[1;33m.\u001b[0m\u001b[0mfit\u001b[0m\u001b[1;33m(\u001b[0m\u001b[0mwine_X_train_20\u001b[0m\u001b[1;33m[\u001b[0m\u001b[0mi\u001b[0m\u001b[1;33m]\u001b[0m\u001b[1;33m.\u001b[0m\u001b[0mvalues\u001b[0m\u001b[1;33m,\u001b[0m \u001b[0mwine_Y_train_20\u001b[0m\u001b[1;33m[\u001b[0m\u001b[0mi\u001b[0m\u001b[1;33m]\u001b[0m\u001b[1;33m.\u001b[0m\u001b[0mvalues\u001b[0m\u001b[1;33m)\u001b[0m\u001b[1;33m\u001b[0m\u001b[1;33m\u001b[0m\u001b[0m\n\u001b[0m\u001b[0;32m      8\u001b[0m     \u001b[0mlogregs\u001b[0m\u001b[1;33m.\u001b[0m\u001b[0mappend\u001b[0m\u001b[1;33m(\u001b[0m\u001b[0mlogreg\u001b[0m\u001b[1;33m)\u001b[0m\u001b[1;33m\u001b[0m\u001b[1;33m\u001b[0m\u001b[0m\n\u001b[0;32m      9\u001b[0m     \u001b[0mprint\u001b[0m\u001b[1;33m(\u001b[0m\u001b[0mi\u001b[0m\u001b[1;33m)\u001b[0m\u001b[1;33m\u001b[0m\u001b[1;33m\u001b[0m\u001b[0m\n",
      "\u001b[1;32m~\\Anaconda3\\lib\\site-packages\\sklearn\\linear_model\\logistic.py\u001b[0m in \u001b[0;36mfit\u001b[1;34m(self, X, y, sample_weight)\u001b[0m\n\u001b[0;32m   1797\u001b[0m                       \u001b[0msample_weight\u001b[0m\u001b[1;33m=\u001b[0m\u001b[0msample_weight\u001b[0m\u001b[1;33m\u001b[0m\u001b[1;33m\u001b[0m\u001b[0m\n\u001b[0;32m   1798\u001b[0m                       )\n\u001b[1;32m-> 1799\u001b[1;33m             \u001b[1;32mfor\u001b[0m \u001b[0mlabel\u001b[0m \u001b[1;32min\u001b[0m \u001b[0miter_encoded_labels\u001b[0m\u001b[1;33m\u001b[0m\u001b[1;33m\u001b[0m\u001b[0m\n\u001b[0m\u001b[0;32m   1800\u001b[0m             for train, test in folds)\n\u001b[0;32m   1801\u001b[0m \u001b[1;33m\u001b[0m\u001b[0m\n",
      "\u001b[1;32m~\\Anaconda3\\lib\\site-packages\\sklearn\\externals\\joblib\\parallel.py\u001b[0m in \u001b[0;36m__call__\u001b[1;34m(self, iterable)\u001b[0m\n\u001b[0;32m    928\u001b[0m \u001b[1;33m\u001b[0m\u001b[0m\n\u001b[0;32m    929\u001b[0m             \u001b[1;32mwith\u001b[0m \u001b[0mself\u001b[0m\u001b[1;33m.\u001b[0m\u001b[0m_backend\u001b[0m\u001b[1;33m.\u001b[0m\u001b[0mretrieval_context\u001b[0m\u001b[1;33m(\u001b[0m\u001b[1;33m)\u001b[0m\u001b[1;33m:\u001b[0m\u001b[1;33m\u001b[0m\u001b[1;33m\u001b[0m\u001b[0m\n\u001b[1;32m--> 930\u001b[1;33m                 \u001b[0mself\u001b[0m\u001b[1;33m.\u001b[0m\u001b[0mretrieve\u001b[0m\u001b[1;33m(\u001b[0m\u001b[1;33m)\u001b[0m\u001b[1;33m\u001b[0m\u001b[1;33m\u001b[0m\u001b[0m\n\u001b[0m\u001b[0;32m    931\u001b[0m             \u001b[1;31m# Make sure that we get a last message telling us we are done\u001b[0m\u001b[1;33m\u001b[0m\u001b[1;33m\u001b[0m\u001b[1;33m\u001b[0m\u001b[0m\n\u001b[0;32m    932\u001b[0m             \u001b[0melapsed_time\u001b[0m \u001b[1;33m=\u001b[0m \u001b[0mtime\u001b[0m\u001b[1;33m.\u001b[0m\u001b[0mtime\u001b[0m\u001b[1;33m(\u001b[0m\u001b[1;33m)\u001b[0m \u001b[1;33m-\u001b[0m \u001b[0mself\u001b[0m\u001b[1;33m.\u001b[0m\u001b[0m_start_time\u001b[0m\u001b[1;33m\u001b[0m\u001b[1;33m\u001b[0m\u001b[0m\n",
      "\u001b[1;32m~\\Anaconda3\\lib\\site-packages\\sklearn\\externals\\joblib\\parallel.py\u001b[0m in \u001b[0;36mretrieve\u001b[1;34m(self)\u001b[0m\n\u001b[0;32m    831\u001b[0m             \u001b[1;32mtry\u001b[0m\u001b[1;33m:\u001b[0m\u001b[1;33m\u001b[0m\u001b[1;33m\u001b[0m\u001b[0m\n\u001b[0;32m    832\u001b[0m                 \u001b[1;32mif\u001b[0m \u001b[0mgetattr\u001b[0m\u001b[1;33m(\u001b[0m\u001b[0mself\u001b[0m\u001b[1;33m.\u001b[0m\u001b[0m_backend\u001b[0m\u001b[1;33m,\u001b[0m \u001b[1;34m'supports_timeout'\u001b[0m\u001b[1;33m,\u001b[0m \u001b[1;32mFalse\u001b[0m\u001b[1;33m)\u001b[0m\u001b[1;33m:\u001b[0m\u001b[1;33m\u001b[0m\u001b[1;33m\u001b[0m\u001b[0m\n\u001b[1;32m--> 833\u001b[1;33m                     \u001b[0mself\u001b[0m\u001b[1;33m.\u001b[0m\u001b[0m_output\u001b[0m\u001b[1;33m.\u001b[0m\u001b[0mextend\u001b[0m\u001b[1;33m(\u001b[0m\u001b[0mjob\u001b[0m\u001b[1;33m.\u001b[0m\u001b[0mget\u001b[0m\u001b[1;33m(\u001b[0m\u001b[0mtimeout\u001b[0m\u001b[1;33m=\u001b[0m\u001b[0mself\u001b[0m\u001b[1;33m.\u001b[0m\u001b[0mtimeout\u001b[0m\u001b[1;33m)\u001b[0m\u001b[1;33m)\u001b[0m\u001b[1;33m\u001b[0m\u001b[1;33m\u001b[0m\u001b[0m\n\u001b[0m\u001b[0;32m    834\u001b[0m                 \u001b[1;32melse\u001b[0m\u001b[1;33m:\u001b[0m\u001b[1;33m\u001b[0m\u001b[1;33m\u001b[0m\u001b[0m\n\u001b[0;32m    835\u001b[0m                     \u001b[0mself\u001b[0m\u001b[1;33m.\u001b[0m\u001b[0m_output\u001b[0m\u001b[1;33m.\u001b[0m\u001b[0mextend\u001b[0m\u001b[1;33m(\u001b[0m\u001b[0mjob\u001b[0m\u001b[1;33m.\u001b[0m\u001b[0mget\u001b[0m\u001b[1;33m(\u001b[0m\u001b[1;33m)\u001b[0m\u001b[1;33m)\u001b[0m\u001b[1;33m\u001b[0m\u001b[1;33m\u001b[0m\u001b[0m\n",
      "\u001b[1;32m~\\Anaconda3\\lib\\site-packages\\sklearn\\externals\\joblib\\_parallel_backends.py\u001b[0m in \u001b[0;36mwrap_future_result\u001b[1;34m(future, timeout)\u001b[0m\n\u001b[0;32m    519\u001b[0m         AsyncResults.get from multiprocessing.\"\"\"\n\u001b[0;32m    520\u001b[0m         \u001b[1;32mtry\u001b[0m\u001b[1;33m:\u001b[0m\u001b[1;33m\u001b[0m\u001b[1;33m\u001b[0m\u001b[0m\n\u001b[1;32m--> 521\u001b[1;33m             \u001b[1;32mreturn\u001b[0m \u001b[0mfuture\u001b[0m\u001b[1;33m.\u001b[0m\u001b[0mresult\u001b[0m\u001b[1;33m(\u001b[0m\u001b[0mtimeout\u001b[0m\u001b[1;33m=\u001b[0m\u001b[0mtimeout\u001b[0m\u001b[1;33m)\u001b[0m\u001b[1;33m\u001b[0m\u001b[1;33m\u001b[0m\u001b[0m\n\u001b[0m\u001b[0;32m    522\u001b[0m         \u001b[1;32mexcept\u001b[0m \u001b[0mLokyTimeoutError\u001b[0m\u001b[1;33m:\u001b[0m\u001b[1;33m\u001b[0m\u001b[1;33m\u001b[0m\u001b[0m\n\u001b[0;32m    523\u001b[0m             \u001b[1;32mraise\u001b[0m \u001b[0mTimeoutError\u001b[0m\u001b[1;33m(\u001b[0m\u001b[1;33m)\u001b[0m\u001b[1;33m\u001b[0m\u001b[1;33m\u001b[0m\u001b[0m\n",
      "\u001b[1;32m~\\Anaconda3\\lib\\concurrent\\futures\\_base.py\u001b[0m in \u001b[0;36mresult\u001b[1;34m(self, timeout)\u001b[0m\n\u001b[0;32m    430\u001b[0m                 \u001b[1;32mraise\u001b[0m \u001b[0mCancelledError\u001b[0m\u001b[1;33m(\u001b[0m\u001b[1;33m)\u001b[0m\u001b[1;33m\u001b[0m\u001b[1;33m\u001b[0m\u001b[0m\n\u001b[0;32m    431\u001b[0m             \u001b[1;32melif\u001b[0m \u001b[0mself\u001b[0m\u001b[1;33m.\u001b[0m\u001b[0m_state\u001b[0m \u001b[1;33m==\u001b[0m \u001b[0mFINISHED\u001b[0m\u001b[1;33m:\u001b[0m\u001b[1;33m\u001b[0m\u001b[1;33m\u001b[0m\u001b[0m\n\u001b[1;32m--> 432\u001b[1;33m                 \u001b[1;32mreturn\u001b[0m \u001b[0mself\u001b[0m\u001b[1;33m.\u001b[0m\u001b[0m__get_result\u001b[0m\u001b[1;33m(\u001b[0m\u001b[1;33m)\u001b[0m\u001b[1;33m\u001b[0m\u001b[1;33m\u001b[0m\u001b[0m\n\u001b[0m\u001b[0;32m    433\u001b[0m             \u001b[1;32melse\u001b[0m\u001b[1;33m:\u001b[0m\u001b[1;33m\u001b[0m\u001b[1;33m\u001b[0m\u001b[0m\n\u001b[0;32m    434\u001b[0m                 \u001b[1;32mraise\u001b[0m \u001b[0mTimeoutError\u001b[0m\u001b[1;33m(\u001b[0m\u001b[1;33m)\u001b[0m\u001b[1;33m\u001b[0m\u001b[1;33m\u001b[0m\u001b[0m\n",
      "\u001b[1;32m~\\Anaconda3\\lib\\concurrent\\futures\\_base.py\u001b[0m in \u001b[0;36m__get_result\u001b[1;34m(self)\u001b[0m\n\u001b[0;32m    382\u001b[0m     \u001b[1;32mdef\u001b[0m \u001b[0m__get_result\u001b[0m\u001b[1;33m(\u001b[0m\u001b[0mself\u001b[0m\u001b[1;33m)\u001b[0m\u001b[1;33m:\u001b[0m\u001b[1;33m\u001b[0m\u001b[1;33m\u001b[0m\u001b[0m\n\u001b[0;32m    383\u001b[0m         \u001b[1;32mif\u001b[0m \u001b[0mself\u001b[0m\u001b[1;33m.\u001b[0m\u001b[0m_exception\u001b[0m\u001b[1;33m:\u001b[0m\u001b[1;33m\u001b[0m\u001b[1;33m\u001b[0m\u001b[0m\n\u001b[1;32m--> 384\u001b[1;33m             \u001b[1;32mraise\u001b[0m \u001b[0mself\u001b[0m\u001b[1;33m.\u001b[0m\u001b[0m_exception\u001b[0m\u001b[1;33m\u001b[0m\u001b[1;33m\u001b[0m\u001b[0m\n\u001b[0m\u001b[0;32m    385\u001b[0m         \u001b[1;32melse\u001b[0m\u001b[1;33m:\u001b[0m\u001b[1;33m\u001b[0m\u001b[1;33m\u001b[0m\u001b[0m\n\u001b[0;32m    386\u001b[0m             \u001b[1;32mreturn\u001b[0m \u001b[0mself\u001b[0m\u001b[1;33m.\u001b[0m\u001b[0m_result\u001b[0m\u001b[1;33m\u001b[0m\u001b[1;33m\u001b[0m\u001b[0m\n",
      "\u001b[1;31mValueError\u001b[0m: This solver needs samples of at least 2 classes in the data, but the data contains only one class: -1.0"
     ]
    }
   ],
   "source": [
    "logregs = []\n",
    "\n",
    "for i in range(3):\n",
    "    logreg = LogisticRegressionCV(Cs= C_list, solver='liblinear', multi_class='ovr', n_jobs=-1, cv=5)\n",
    "    logreg.fit(wine_X_train_20[i].values, wine_Y_train_20[i].values)\n",
    "    logregs.append(logreg)\n",
    "    print(i)"
   ]
  },
  {
   "cell_type": "code",
   "execution_count": 163,
   "metadata": {},
   "outputs": [
    {
     "ename": "IndexError",
     "evalue": "list index out of range",
     "output_type": "error",
     "traceback": [
      "\u001b[1;31m---------------------------------------------------------------------------\u001b[0m",
      "\u001b[1;31mIndexError\u001b[0m                                Traceback (most recent call last)",
      "\u001b[1;32m<ipython-input-163-8dd7b02baaa8>\u001b[0m in \u001b[0;36m<module>\u001b[1;34m\u001b[0m\n\u001b[0;32m      4\u001b[0m \u001b[1;33m\u001b[0m\u001b[0m\n\u001b[0;32m      5\u001b[0m \u001b[1;32mfor\u001b[0m \u001b[0mi\u001b[0m \u001b[1;32min\u001b[0m \u001b[0mrange\u001b[0m\u001b[1;33m(\u001b[0m\u001b[1;36m3\u001b[0m\u001b[1;33m)\u001b[0m\u001b[1;33m:\u001b[0m\u001b[1;33m\u001b[0m\u001b[1;33m\u001b[0m\u001b[0m\n\u001b[1;32m----> 6\u001b[1;33m     \u001b[0mtrain_accs\u001b[0m\u001b[1;33m.\u001b[0m\u001b[0mappend\u001b[0m\u001b[1;33m(\u001b[0m\u001b[0mlogregs\u001b[0m\u001b[1;33m[\u001b[0m\u001b[0mi\u001b[0m\u001b[1;33m]\u001b[0m\u001b[1;33m.\u001b[0m\u001b[0mscore\u001b[0m\u001b[1;33m(\u001b[0m\u001b[0mwine_X_train_20\u001b[0m\u001b[1;33m[\u001b[0m\u001b[0mi\u001b[0m\u001b[1;33m]\u001b[0m\u001b[1;33m,\u001b[0m \u001b[0mwine_Y_train_20\u001b[0m\u001b[1;33m[\u001b[0m\u001b[0mi\u001b[0m\u001b[1;33m]\u001b[0m\u001b[1;33m)\u001b[0m\u001b[1;33m)\u001b[0m\u001b[1;33m\u001b[0m\u001b[1;33m\u001b[0m\u001b[0m\n\u001b[0m\u001b[0;32m      7\u001b[0m     \u001b[0mval_accs\u001b[0m\u001b[1;33m.\u001b[0m\u001b[0mappend\u001b[0m\u001b[1;33m(\u001b[0m\u001b[0mlogregs\u001b[0m\u001b[1;33m[\u001b[0m\u001b[0mi\u001b[0m\u001b[1;33m]\u001b[0m\u001b[1;33m.\u001b[0m\u001b[0mscore\u001b[0m\u001b[1;33m(\u001b[0m\u001b[0mwine_X_train_20\u001b[0m\u001b[1;33m[\u001b[0m\u001b[0mi\u001b[0m\u001b[1;33m]\u001b[0m\u001b[1;33m,\u001b[0m \u001b[0mwine_Y_train_20\u001b[0m\u001b[1;33m[\u001b[0m\u001b[0mi\u001b[0m\u001b[1;33m]\u001b[0m\u001b[1;33m)\u001b[0m\u001b[1;33m)\u001b[0m\u001b[1;33m\u001b[0m\u001b[1;33m\u001b[0m\u001b[0m\n\u001b[0;32m      8\u001b[0m     \u001b[0mtest_accs\u001b[0m\u001b[1;33m.\u001b[0m\u001b[0mappend\u001b[0m\u001b[1;33m(\u001b[0m\u001b[0mlogregs\u001b[0m\u001b[1;33m[\u001b[0m\u001b[0mi\u001b[0m\u001b[1;33m]\u001b[0m\u001b[1;33m.\u001b[0m\u001b[0mscore\u001b[0m\u001b[1;33m(\u001b[0m\u001b[0mwine_X_test_80\u001b[0m\u001b[1;33m[\u001b[0m\u001b[0mi\u001b[0m\u001b[1;33m]\u001b[0m\u001b[1;33m,\u001b[0m \u001b[0mwine_Y_test_80\u001b[0m\u001b[1;33m[\u001b[0m\u001b[0mi\u001b[0m\u001b[1;33m]\u001b[0m\u001b[1;33m)\u001b[0m\u001b[1;33m)\u001b[0m\u001b[1;33m\u001b[0m\u001b[1;33m\u001b[0m\u001b[0m\n",
      "\u001b[1;31mIndexError\u001b[0m: list index out of range"
     ]
    }
   ],
   "source": [
    "train_accs = []\n",
    "val_accs = []\n",
    "test_accs = []\n",
    "\n",
    "for i in range(3):\n",
    "    train_accs.append(logregs[i].score(wine_X_train_20[i], wine_Y_train_20[i]))\n",
    "    val_accs.append(logregs[i].score(wine_X_train_20[i], wine_Y_train_20[i]))\n",
    "    test_accs.append(logregs[i].score(wine_X_test_80[i], wine_Y_test_80[i]))\n",
    "    print(i)\n"
   ]
  },
  {
   "cell_type": "code",
   "execution_count": 164,
   "metadata": {},
   "outputs": [
    {
     "ename": "IndexError",
     "evalue": "list index out of range",
     "output_type": "error",
     "traceback": [
      "\u001b[1;31m---------------------------------------------------------------------------\u001b[0m",
      "\u001b[1;31mIndexError\u001b[0m                                Traceback (most recent call last)",
      "\u001b[1;32m<ipython-input-164-a082c1aa563e>\u001b[0m in \u001b[0;36m<module>\u001b[1;34m\u001b[0m\n\u001b[0;32m      2\u001b[0m \u001b[1;33m\u001b[0m\u001b[0m\n\u001b[0;32m      3\u001b[0m \u001b[1;32mfor\u001b[0m \u001b[0mi\u001b[0m \u001b[1;32min\u001b[0m \u001b[0mrange\u001b[0m\u001b[1;33m(\u001b[0m\u001b[1;36m3\u001b[0m\u001b[1;33m)\u001b[0m\u001b[1;33m:\u001b[0m\u001b[1;33m\u001b[0m\u001b[1;33m\u001b[0m\u001b[0m\n\u001b[1;32m----> 4\u001b[1;33m     \u001b[0maccs\u001b[0m\u001b[1;33m.\u001b[0m\u001b[0mappend\u001b[0m\u001b[1;33m(\u001b[0m\u001b[1;33m(\u001b[0m\u001b[0mtrain_accs\u001b[0m\u001b[1;33m[\u001b[0m\u001b[0mi\u001b[0m\u001b[1;33m]\u001b[0m \u001b[1;33m+\u001b[0m \u001b[0mval_accs\u001b[0m\u001b[1;33m[\u001b[0m\u001b[0mi\u001b[0m\u001b[1;33m]\u001b[0m \u001b[1;33m+\u001b[0m \u001b[0mtest_accs\u001b[0m\u001b[1;33m[\u001b[0m\u001b[0mi\u001b[0m\u001b[1;33m]\u001b[0m\u001b[1;33m)\u001b[0m\u001b[1;33m/\u001b[0m\u001b[1;36m3\u001b[0m\u001b[1;33m)\u001b[0m\u001b[1;33m\u001b[0m\u001b[1;33m\u001b[0m\u001b[0m\n\u001b[0m\u001b[0;32m      5\u001b[0m \u001b[1;33m\u001b[0m\u001b[0m\n\u001b[0;32m      6\u001b[0m \u001b[0mprint\u001b[0m\u001b[1;33m(\u001b[0m\u001b[1;34m'Best Accuracy: '\u001b[0m \u001b[1;33m+\u001b[0m \u001b[0mstr\u001b[0m\u001b[1;33m(\u001b[0m\u001b[0mmax\u001b[0m\u001b[1;33m(\u001b[0m\u001b[0maccs\u001b[0m\u001b[1;33m)\u001b[0m\u001b[1;33m)\u001b[0m\u001b[1;33m)\u001b[0m\u001b[1;33m\u001b[0m\u001b[1;33m\u001b[0m\u001b[0m\n",
      "\u001b[1;31mIndexError\u001b[0m: list index out of range"
     ]
    }
   ],
   "source": [
    "accs = []\n",
    "\n",
    "for i in range(3):\n",
    "    accs.append((train_accs[i] + val_accs[i] + test_accs[i])/3)\n",
    "\n",
    "print('Best Accuracy: ' + str(max(accs)))"
   ]
  },
  {
   "cell_type": "markdown",
   "metadata": {},
   "source": [
    "### Dota"
   ]
  },
  {
   "cell_type": "markdown",
   "metadata": {},
   "source": [
    "#### 80 / 20"
   ]
  },
  {
   "cell_type": "code",
   "execution_count": 165,
   "metadata": {},
   "outputs": [
    {
     "name": "stdout",
     "output_type": "stream",
     "text": [
      "0\n",
      "1\n",
      "2\n"
     ]
    }
   ],
   "source": [
    "logregs = []\n",
    "\n",
    "for i in range(3):\n",
    "    logreg = LogisticRegressionCV(Cs= C_list, solver='liblinear', multi_class='ovr', n_jobs=-1, cv=5)\n",
    "    logreg.fit(dota_X_train_80[i].values, dota_Y_train_80[i].values)\n",
    "    logregs.append(logreg)\n",
    "    print(i)"
   ]
  },
  {
   "cell_type": "code",
   "execution_count": 166,
   "metadata": {},
   "outputs": [
    {
     "name": "stdout",
     "output_type": "stream",
     "text": [
      "0\n",
      "1\n",
      "2\n"
     ]
    }
   ],
   "source": [
    "train_accs = []\n",
    "val_accs = []\n",
    "test_accs = []\n",
    "\n",
    "for i in range(3):\n",
    "    train_accs.append(logregs[i].score(dota_X_train_80[i], dota_Y_train_80[i]))\n",
    "    val_accs.append(logregs[i].score(dota_X_train_80[i], dota_Y_train_80[i]))\n",
    "    test_accs.append(logregs[i].score(dota_X_test_20[i], dota_Y_test_20[i]))\n",
    "    print(i)\n"
   ]
  },
  {
   "cell_type": "code",
   "execution_count": 167,
   "metadata": {},
   "outputs": [
    {
     "name": "stdout",
     "output_type": "stream",
     "text": [
      "Best Accuracy: 0.6168333333333333\n"
     ]
    }
   ],
   "source": [
    "accs = []\n",
    "\n",
    "for i in range(3):\n",
    "    accs.append((train_accs[i] + val_accs[i] + test_accs[i])/3)\n",
    "\n",
    "print('Best Accuracy: ' + str(max(accs)))"
   ]
  },
  {
   "cell_type": "markdown",
   "metadata": {},
   "source": [
    "#### 50 / 50"
   ]
  },
  {
   "cell_type": "code",
   "execution_count": 168,
   "metadata": {},
   "outputs": [
    {
     "name": "stdout",
     "output_type": "stream",
     "text": [
      "0\n",
      "1\n",
      "2\n"
     ]
    }
   ],
   "source": [
    "logregs = []\n",
    "\n",
    "for i in range(3):\n",
    "    logreg = LogisticRegressionCV(Cs= C_list, solver='liblinear', multi_class='ovr', n_jobs=-1, cv=5)\n",
    "    logreg.fit(dota_X_train_50[i].values, dota_Y_train_50[i].values)\n",
    "    logregs.append(logreg)\n",
    "    print(i)"
   ]
  },
  {
   "cell_type": "code",
   "execution_count": 169,
   "metadata": {},
   "outputs": [
    {
     "name": "stdout",
     "output_type": "stream",
     "text": [
      "0\n",
      "1\n",
      "2\n"
     ]
    }
   ],
   "source": [
    "train_accs = []\n",
    "val_accs = []\n",
    "test_accs = []\n",
    "\n",
    "for i in range(3):\n",
    "    train_accs.append(logregs[i].score(dota_X_train_50[i], dota_Y_train_50[i]))\n",
    "    val_accs.append(logregs[i].score(dota_X_train_50[i], dota_Y_train_50[i]))\n",
    "    test_accs.append(logregs[i].score(dota_X_test_50[i], dota_Y_test_50[i]))\n",
    "    print(i)\n"
   ]
  },
  {
   "cell_type": "code",
   "execution_count": 170,
   "metadata": {},
   "outputs": [
    {
     "name": "stdout",
     "output_type": "stream",
     "text": [
      "Best Accuracy: 0.6244\n"
     ]
    }
   ],
   "source": [
    "accs = []\n",
    "\n",
    "for i in range(3):\n",
    "    accs.append((train_accs[i] + val_accs[i] + test_accs[i])/3)\n",
    "\n",
    "print('Best Accuracy: ' + str(max(accs)))"
   ]
  },
  {
   "cell_type": "markdown",
   "metadata": {},
   "source": [
    "#### 20 / 80"
   ]
  },
  {
   "cell_type": "code",
   "execution_count": 171,
   "metadata": {},
   "outputs": [
    {
     "name": "stdout",
     "output_type": "stream",
     "text": [
      "0\n",
      "1\n",
      "2\n"
     ]
    }
   ],
   "source": [
    "logregs = []\n",
    "\n",
    "for i in range(3):\n",
    "    logreg = LogisticRegressionCV(Cs= C_list, solver='liblinear', multi_class='ovr', n_jobs=-1, cv=5)\n",
    "    logreg.fit(dota_X_train_20[i].values, dota_Y_train_20[i].values)\n",
    "    logregs.append(logreg)\n",
    "    print(i)"
   ]
  },
  {
   "cell_type": "code",
   "execution_count": 172,
   "metadata": {},
   "outputs": [
    {
     "name": "stdout",
     "output_type": "stream",
     "text": [
      "0\n",
      "1\n",
      "2\n"
     ]
    }
   ],
   "source": [
    "train_accs = []\n",
    "val_accs = []\n",
    "test_accs = []\n",
    "\n",
    "for i in range(3):\n",
    "    train_accs.append(logregs[i].score(dota_X_train_20[i], dota_Y_train_20[i]))\n",
    "    val_accs.append(logregs[i].score(dota_X_train_20[i], dota_Y_train_20[i]))\n",
    "    test_accs.append(logregs[i].score(dota_X_test_80[i], dota_Y_test_80[i]))\n",
    "    print(i)\n"
   ]
  },
  {
   "cell_type": "code",
   "execution_count": 173,
   "metadata": {},
   "outputs": [
    {
     "name": "stdout",
     "output_type": "stream",
     "text": [
      "Best Accuracy: 0.6466666666666666\n"
     ]
    }
   ],
   "source": [
    "accs = []\n",
    "\n",
    "for i in range(3):\n",
    "    accs.append((train_accs[i] + val_accs[i] + test_accs[i])/3)\n",
    "\n",
    "print('Best Accuracy: ' + str(max(accs)))"
   ]
  },
  {
   "cell_type": "markdown",
   "metadata": {},
   "source": [
    "# Random Forest"
   ]
  },
  {
   "cell_type": "markdown",
   "metadata": {},
   "source": [
    "### Mushroom"
   ]
  },
  {
   "cell_type": "markdown",
   "metadata": {},
   "source": [
    "#### 80 / 20"
   ]
  },
  {
   "cell_type": "code",
   "execution_count": 174,
   "metadata": {},
   "outputs": [
    {
     "name": "stdout",
     "output_type": "stream",
     "text": [
      "0\n",
      "1\n",
      "2\n"
     ]
    }
   ],
   "source": [
    "rfs = []\n",
    "\n",
    "for i in range(3):\n",
    "    rf = RandomForestClassifier(n_estimators=100)\n",
    "    rf.fit(mushroom_X_train_80[i].values, mushroom_Y_train_80[i].values)\n",
    "    rfs.append(rf)\n",
    "    print(i)"
   ]
  },
  {
   "cell_type": "code",
   "execution_count": 189,
   "metadata": {},
   "outputs": [
    {
     "name": "stdout",
     "output_type": "stream",
     "text": [
      "0\n",
      "1\n",
      "2\n"
     ]
    }
   ],
   "source": [
    "train_accs = []\n",
    "val_accs = []\n",
    "test_accs = []\n",
    "\n",
    "for i in range(3):\n",
    "    train_accs.append(rfs[i].score(mushroom_X_train_80[i], mushroom_Y_train_80[i]))\n",
    "    val_accs.append(rfs[i].score(mushroom_X_train_80[i], mushroom_Y_train_80[i]))\n",
    "    test_accs.append(rfs[i].score(mushroom_X_test_20[i], mushroom_Y_test_20[i]))\n",
    "    print(i)\n"
   ]
  },
  {
   "cell_type": "code",
   "execution_count": 191,
   "metadata": {},
   "outputs": [
    {
     "name": "stdout",
     "output_type": "stream",
     "text": [
      "Best Accuracy: 1.0\n"
     ]
    }
   ],
   "source": [
    "accs = []\n",
    "\n",
    "for i in range(3):\n",
    "    accs.append((train_accs[i] + val_accs[i] + test_accs[i])/3)\n",
    "\n",
    "print('Best Accuracy: ' + str(max(accs)))"
   ]
  },
  {
   "cell_type": "markdown",
   "metadata": {},
   "source": [
    "#### 50 / 50"
   ]
  },
  {
   "cell_type": "code",
   "execution_count": 192,
   "metadata": {},
   "outputs": [
    {
     "name": "stdout",
     "output_type": "stream",
     "text": [
      "0\n",
      "1\n",
      "2\n"
     ]
    }
   ],
   "source": [
    "rfs = []\n",
    "\n",
    "for i in range(3):\n",
    "    rf = RandomForestClassifier(n_estimators=100)\n",
    "    rf.fit(mushroom_X_train_50[i].values, mushroom_Y_train_50[i].values)\n",
    "    rfs.append(rf)\n",
    "    print(i)"
   ]
  },
  {
   "cell_type": "code",
   "execution_count": 193,
   "metadata": {},
   "outputs": [
    {
     "name": "stdout",
     "output_type": "stream",
     "text": [
      "0\n",
      "1\n",
      "2\n"
     ]
    }
   ],
   "source": [
    "train_accs = []\n",
    "val_accs = []\n",
    "test_accs = []\n",
    "\n",
    "for i in range(3):\n",
    "    train_accs.append(rfs[i].score(mushroom_X_train_50[i], mushroom_Y_train_50[i]))\n",
    "    val_accs.append(rfs[i].score(mushroom_X_train_50[i], mushroom_Y_train_50[i]))\n",
    "    test_accs.append(rfs[i].score(mushroom_X_test_50[i], mushroom_Y_test_50[i]))\n",
    "    print(i)\n"
   ]
  },
  {
   "cell_type": "code",
   "execution_count": 194,
   "metadata": {},
   "outputs": [
    {
     "name": "stdout",
     "output_type": "stream",
     "text": [
      "Best Accuracy: 1.0\n"
     ]
    }
   ],
   "source": [
    "accs = []\n",
    "\n",
    "for i in range(3):\n",
    "    accs.append((train_accs[i] + val_accs[i] + test_accs[i])/3)\n",
    "\n",
    "print('Best Accuracy: ' + str(max(accs)))"
   ]
  },
  {
   "cell_type": "markdown",
   "metadata": {},
   "source": [
    "#### 20 / 80"
   ]
  },
  {
   "cell_type": "code",
   "execution_count": 195,
   "metadata": {},
   "outputs": [
    {
     "name": "stdout",
     "output_type": "stream",
     "text": [
      "0\n",
      "1\n",
      "2\n"
     ]
    }
   ],
   "source": [
    "rfs = []\n",
    "\n",
    "for i in range(3):\n",
    "    rf = RandomForestClassifier(n_estimators=100)\n",
    "    rf.fit(mushroom_X_train_20[i].values, mushroom_Y_train_20[i].values)\n",
    "    rfs.append(rf)\n",
    "    print(i)"
   ]
  },
  {
   "cell_type": "code",
   "execution_count": 196,
   "metadata": {},
   "outputs": [
    {
     "name": "stdout",
     "output_type": "stream",
     "text": [
      "0\n",
      "1\n",
      "2\n"
     ]
    }
   ],
   "source": [
    "train_accs = []\n",
    "val_accs = []\n",
    "test_accs = []\n",
    "\n",
    "for i in range(3):\n",
    "    train_accs.append(rfs[i].score(mushroom_X_train_20[i], mushroom_Y_train_20[i]))\n",
    "    val_accs.append(rfs[i].score(mushroom_X_train_20[i], mushroom_Y_train_20[i]))\n",
    "    test_accs.append(rfs[i].score(mushroom_X_test_80[i], mushroom_Y_test_80[i]))\n",
    "    print(i)\n"
   ]
  },
  {
   "cell_type": "code",
   "execution_count": 197,
   "metadata": {},
   "outputs": [
    {
     "name": "stdout",
     "output_type": "stream",
     "text": [
      "Best Accuracy: 1.0\n"
     ]
    }
   ],
   "source": [
    "accs = []\n",
    "\n",
    "for i in range(3):\n",
    "    accs.append((train_accs[i] + val_accs[i] + test_accs[i])/3)\n",
    "\n",
    "print('Best Accuracy: ' + str(max(accs)))"
   ]
  },
  {
   "cell_type": "markdown",
   "metadata": {},
   "source": [
    "### Wine"
   ]
  },
  {
   "cell_type": "markdown",
   "metadata": {},
   "source": [
    "#### 80 / 20"
   ]
  },
  {
   "cell_type": "code",
   "execution_count": 198,
   "metadata": {},
   "outputs": [
    {
     "name": "stdout",
     "output_type": "stream",
     "text": [
      "0\n",
      "1\n",
      "2\n"
     ]
    }
   ],
   "source": [
    "rfs = []\n",
    "\n",
    "for i in range(3):\n",
    "    rf = RandomForestClassifier(n_estimators=100)\n",
    "    rf.fit(wine_X_train_80[i].values, wine_Y_train_80[i].values)\n",
    "    rfs.append(rf)\n",
    "    print(i)"
   ]
  },
  {
   "cell_type": "code",
   "execution_count": 200,
   "metadata": {},
   "outputs": [
    {
     "name": "stdout",
     "output_type": "stream",
     "text": [
      "0\n",
      "1\n",
      "2\n"
     ]
    }
   ],
   "source": [
    "train_accs = []\n",
    "val_accs = []\n",
    "test_accs = []\n",
    "\n",
    "for i in range(3):\n",
    "    train_accs.append(rfs[i].score(wine_X_train_80[i], wine_Y_train_80[i]))\n",
    "    val_accs.append(rfs[i].score(wine_X_train_80[i], wine_Y_train_80[i]))\n",
    "    test_accs.append(rfs[i].score(wine_X_test_20[i], wine_Y_test_20[i]))\n",
    "    print(i)\n"
   ]
  },
  {
   "cell_type": "code",
   "execution_count": 201,
   "metadata": {},
   "outputs": [
    {
     "name": "stdout",
     "output_type": "stream",
     "text": [
      "Best Accuracy: 0.8975\n"
     ]
    }
   ],
   "source": [
    "accs = []\n",
    "\n",
    "for i in range(3):\n",
    "    accs.append((train_accs[i] + val_accs[i] + test_accs[i])/3)\n",
    "\n",
    "print('Best Accuracy: ' + str(max(accs)))"
   ]
  },
  {
   "cell_type": "markdown",
   "metadata": {},
   "source": [
    "#### 50 / 50"
   ]
  },
  {
   "cell_type": "code",
   "execution_count": 202,
   "metadata": {},
   "outputs": [
    {
     "name": "stdout",
     "output_type": "stream",
     "text": [
      "0\n",
      "1\n",
      "2\n"
     ]
    }
   ],
   "source": [
    "rfs = []\n",
    "\n",
    "for i in range(3):\n",
    "    rf = RandomForestClassifier(n_estimators=100)\n",
    "    rf.fit(wine_X_train_50[i].values, wine_Y_train_50[i].values)\n",
    "    rfs.append(rf)\n",
    "    print(i)"
   ]
  },
  {
   "cell_type": "code",
   "execution_count": 203,
   "metadata": {},
   "outputs": [
    {
     "name": "stdout",
     "output_type": "stream",
     "text": [
      "0\n",
      "1\n",
      "2\n"
     ]
    }
   ],
   "source": [
    "train_accs = []\n",
    "val_accs = []\n",
    "test_accs = []\n",
    "\n",
    "for i in range(3):\n",
    "    train_accs.append(rfs[i].score(wine_X_train_50[i], wine_Y_train_50[i]))\n",
    "    val_accs.append(rfs[i].score(wine_X_train_50[i], wine_Y_train_50[i]))\n",
    "    test_accs.append(rfs[i].score(wine_X_test_50[i], wine_Y_test_50[i]))\n",
    "    print(i)\n"
   ]
  },
  {
   "cell_type": "code",
   "execution_count": 204,
   "metadata": {},
   "outputs": [
    {
     "name": "stdout",
     "output_type": "stream",
     "text": [
      "Best Accuracy: 0.868\n"
     ]
    }
   ],
   "source": [
    "accs = []\n",
    "\n",
    "for i in range(3):\n",
    "    accs.append((train_accs[i] + val_accs[i] + test_accs[i])/3)\n",
    "\n",
    "print('Best Accuracy: ' + str(max(accs)))"
   ]
  },
  {
   "cell_type": "markdown",
   "metadata": {},
   "source": [
    "#### 20 / 80"
   ]
  },
  {
   "cell_type": "code",
   "execution_count": 205,
   "metadata": {},
   "outputs": [
    {
     "name": "stdout",
     "output_type": "stream",
     "text": [
      "0\n",
      "1\n",
      "2\n"
     ]
    }
   ],
   "source": [
    "rfs = []\n",
    "\n",
    "for i in range(3):\n",
    "    rf = RandomForestClassifier(n_estimators=100)\n",
    "    rf.fit(wine_X_train_20[i].values, wine_Y_train_20[i].values)\n",
    "    rfs.append(rf)\n",
    "    print(i)"
   ]
  },
  {
   "cell_type": "code",
   "execution_count": 208,
   "metadata": {},
   "outputs": [
    {
     "name": "stdout",
     "output_type": "stream",
     "text": [
      "0\n",
      "1\n",
      "2\n"
     ]
    }
   ],
   "source": [
    "train_accs = []\n",
    "val_accs = []\n",
    "test_accs = []\n",
    "\n",
    "for i in range(3):\n",
    "    train_accs.append(rfs[i].score(wine_X_train_20[i], wine_Y_train_20[i]))\n",
    "    val_accs.append(rfs[i].score(wine_X_train_20[i], wine_Y_train_20[i]))\n",
    "    test_accs.append(rfs[i].score(wine_X_test_80[i], wine_Y_test_80[i]))\n",
    "    print(i)\n"
   ]
  },
  {
   "cell_type": "code",
   "execution_count": 209,
   "metadata": {},
   "outputs": [
    {
     "name": "stdout",
     "output_type": "stream",
     "text": [
      "Best Accuracy: 0.8470833333333333\n"
     ]
    }
   ],
   "source": [
    "accs = []\n",
    "\n",
    "for i in range(3):\n",
    "    accs.append((train_accs[i] + val_accs[i] + test_accs[i])/3)\n",
    "\n",
    "print('Best Accuracy: ' + str(max(accs)))"
   ]
  },
  {
   "cell_type": "markdown",
   "metadata": {},
   "source": [
    "### Dota"
   ]
  },
  {
   "cell_type": "markdown",
   "metadata": {},
   "source": [
    "#### 80 / 20"
   ]
  },
  {
   "cell_type": "code",
   "execution_count": 228,
   "metadata": {},
   "outputs": [
    {
     "name": "stdout",
     "output_type": "stream",
     "text": [
      "0\n",
      "1\n",
      "2\n"
     ]
    }
   ],
   "source": [
    "rfs = []\n",
    "\n",
    "for i in range(3):\n",
    "    rf = RandomForestClassifier(n_estimators=100)\n",
    "    rf.fit(dota_X_train_80[i].values, dota_Y_train_80[i].values)\n",
    "    rfs.append(rf)\n",
    "    print(i)"
   ]
  },
  {
   "cell_type": "code",
   "execution_count": 229,
   "metadata": {},
   "outputs": [
    {
     "name": "stdout",
     "output_type": "stream",
     "text": [
      "0\n",
      "1\n",
      "2\n"
     ]
    }
   ],
   "source": [
    "train_accs = []\n",
    "val_accs = []\n",
    "test_accs = []\n",
    "\n",
    "for i in range(3):\n",
    "    train_accs.append(rfs[i].score(dota_X_train_80[i], dota_Y_train_80[i]))\n",
    "    val_accs.append(rfs[i].score(dota_X_train_80[i], dota_Y_train_80[i]))\n",
    "    test_accs.append(rfs[i].score(dota_X_test_20[i], dota_Y_test_20[i]))\n",
    "    print(i)\n"
   ]
  },
  {
   "cell_type": "code",
   "execution_count": 230,
   "metadata": {},
   "outputs": [
    {
     "name": "stdout",
     "output_type": "stream",
     "text": [
      "Best Accuracy: 0.8546666666666667\n"
     ]
    }
   ],
   "source": [
    "accs = []\n",
    "\n",
    "for i in range(3):\n",
    "    accs.append((train_accs[i] + val_accs[i] + test_accs[i])/3)\n",
    "\n",
    "print('Best Accuracy: ' + str(max(accs)))"
   ]
  },
  {
   "cell_type": "markdown",
   "metadata": {},
   "source": [
    "#### 50 / 50"
   ]
  },
  {
   "cell_type": "code",
   "execution_count": 213,
   "metadata": {},
   "outputs": [
    {
     "name": "stdout",
     "output_type": "stream",
     "text": [
      "0\n",
      "1\n",
      "2\n"
     ]
    }
   ],
   "source": [
    "rfs = []\n",
    "\n",
    "for i in range(3):\n",
    "    rf = RandomForestClassifier(n_estimators=100)\n",
    "    rf.fit(dota_X_train_50[i].values, dota_Y_train_50[i].values)\n",
    "    rfs.append(rf)\n",
    "    print(i)"
   ]
  },
  {
   "cell_type": "code",
   "execution_count": 214,
   "metadata": {},
   "outputs": [
    {
     "name": "stdout",
     "output_type": "stream",
     "text": [
      "0\n",
      "1\n",
      "2\n"
     ]
    }
   ],
   "source": [
    "train_accs = []\n",
    "val_accs = []\n",
    "test_accs = []\n",
    "\n",
    "for i in range(3):\n",
    "    train_accs.append(rfs[i].score(dota_X_train_50[i], dota_Y_train_50[i]))\n",
    "    val_accs.append(rfs[i].score(dota_X_train_50[i], dota_Y_train_50[i]))\n",
    "    test_accs.append(rfs[i].score(dota_X_test_50[i], dota_Y_test_50[i]))\n",
    "    print(i)\n"
   ]
  },
  {
   "cell_type": "code",
   "execution_count": 215,
   "metadata": {},
   "outputs": [
    {
     "name": "stdout",
     "output_type": "stream",
     "text": [
      "Best Accuracy: 0.8525333333333333\n"
     ]
    }
   ],
   "source": [
    "accs = []\n",
    "\n",
    "for i in range(3):\n",
    "    accs.append((train_accs[i] + val_accs[i] + test_accs[i])/3)\n",
    "\n",
    "print('Best Accuracy: ' + str(max(accs)))"
   ]
  },
  {
   "cell_type": "markdown",
   "metadata": {},
   "source": [
    "#### 20 / 80"
   ]
  },
  {
   "cell_type": "code",
   "execution_count": 216,
   "metadata": {},
   "outputs": [
    {
     "name": "stdout",
     "output_type": "stream",
     "text": [
      "0\n",
      "1\n",
      "2\n"
     ]
    }
   ],
   "source": [
    "rfs = []\n",
    "\n",
    "for i in range(3):\n",
    "    rf = RandomForestClassifier(n_estimators=100)\n",
    "    rf.fit(dota_X_train_20[i].values, dota_Y_train_20[i].values)\n",
    "    rfs.append(rf)\n",
    "    print(i)"
   ]
  },
  {
   "cell_type": "code",
   "execution_count": 217,
   "metadata": {},
   "outputs": [
    {
     "name": "stdout",
     "output_type": "stream",
     "text": [
      "0\n",
      "1\n",
      "2\n"
     ]
    }
   ],
   "source": [
    "train_accs = []\n",
    "val_accs = []\n",
    "test_accs = []\n",
    "\n",
    "for i in range(3):\n",
    "    train_accs.append(rfs[i].score(dota_X_train_20[i], dota_Y_train_20[i]))\n",
    "    val_accs.append(rfs[i].score(dota_X_train_20[i], dota_Y_train_20[i]))\n",
    "    test_accs.append(rfs[i].score(dota_X_test_80[i], dota_Y_test_80[i]))\n",
    "    print(i)\n"
   ]
  },
  {
   "cell_type": "code",
   "execution_count": 218,
   "metadata": {},
   "outputs": [
    {
     "name": "stdout",
     "output_type": "stream",
     "text": [
      "Best Accuracy: 0.8496666666666667\n"
     ]
    }
   ],
   "source": [
    "accs = []\n",
    "\n",
    "for i in range(3):\n",
    "    accs.append((train_accs[i] + val_accs[i] + test_accs[i])/3)\n",
    "\n",
    "print('Best Accuracy: ' + str(max(accs)))"
   ]
  },
  {
   "cell_type": "code",
   "execution_count": null,
   "metadata": {},
   "outputs": [],
   "source": []
  }
 ],
 "metadata": {
  "kernelspec": {
   "display_name": "Python 3",
   "language": "python",
   "name": "python3"
  },
  "language_info": {
   "codemirror_mode": {
    "name": "ipython",
    "version": 3
   },
   "file_extension": ".py",
   "mimetype": "text/x-python",
   "name": "python",
   "nbconvert_exporter": "python",
   "pygments_lexer": "ipython3",
   "version": "3.7.3"
  }
 },
 "nbformat": 4,
 "nbformat_minor": 2
}
