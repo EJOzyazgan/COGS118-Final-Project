{
 "cells": [
  {
   "cell_type": "code",
   "execution_count": 137,
   "metadata": {},
   "outputs": [],
   "source": [
    "import scipy.io as sio\n",
    "import matplotlib.pyplot as plt\n",
    "import numpy as np\n",
    "import pandas as pd\n",
    "import seaborn as sns\n",
    "from sklearn import svm\n",
    "from sklearn.model_selection import GridSearchCV\n",
    "from sklearn.model_selection import train_test_split\n",
    "from sklearn.linear_model import LogisticRegressionCV\n",
    "from sklearn.ensemble import RandomForestClassifier"
   ]
  },
  {
   "cell_type": "markdown",
   "metadata": {},
   "source": [
    "# Load Data"
   ]
  },
  {
   "cell_type": "markdown",
   "metadata": {},
   "source": [
    "### Mushroom"
   ]
  },
  {
   "cell_type": "code",
   "execution_count": 325,
   "metadata": {},
   "outputs": [
    {
     "name": "stdout",
     "output_type": "stream",
     "text": [
      "(5000, 97)\n"
     ]
    }
   ],
   "source": [
    "mushroom_data = pd.read_csv('agaricus-lepiota.data', header=None, sep=',')\n",
    "mushroom_data = mushroom_data.iloc[:5000,:]\n",
    "\n",
    "mushroom_data = pd.get_dummies(mushroom_data, columns=[1,2,3,4,5,6,7,8,9,10,11,12,13,14,15,16,17,18,19,20,21,22])\n",
    "\n",
    "eddible_nums = {0: {'e': 1, 'p': 0}}\n",
    "mushroom_data.replace(eddible_nums, inplace=True)\n",
    "\n",
    "\n",
    "print(mushroom_data.shape)"
   ]
  },
  {
   "cell_type": "code",
   "execution_count": 326,
   "metadata": {},
   "outputs": [
    {
     "name": "stdout",
     "output_type": "stream",
     "text": [
      "(4000, 96) (1000, 96) (4000,) (1000,)\n"
     ]
    }
   ],
   "source": [
    "mushroom_X_train_80 = [None] * 3\n",
    "mushroom_X_test_20 = [None] * 3    \n",
    "mushroom_Y_train_80 = [None] * 3\n",
    "mushroom_Y_test_20 = [None] * 3\n",
    "\n",
    "for i in range(3):\n",
    "    mushroom_data = mushroom_data.sample(frac=1).reset_index(drop=True)\n",
    "    mushroom_X = mushroom_data.iloc[:,1:]   \n",
    "    mushroom_Y = mushroom_data.iloc[:,0]\n",
    "    \n",
    "    mushroom_X_train_80[i], mushroom_X_test_20[i], mushroom_Y_train_80[i], mushroom_Y_test_20[i] = train_test_split(mushroom_X, mushroom_Y, test_size=0.2, random_state=0)\n",
    "\n",
    "print(mushroom_X_train_80[0].shape, mushroom_X_test_20[0].shape, mushroom_Y_train_80[0].shape, mushroom_Y_test_20[0].shape)"
   ]
  },
  {
   "cell_type": "code",
   "execution_count": 327,
   "metadata": {},
   "outputs": [
    {
     "name": "stdout",
     "output_type": "stream",
     "text": [
      "(2500, 96) (2500, 96) (2500,) (2500,)\n"
     ]
    }
   ],
   "source": [
    "mushroom_X_train_50 = [None] * 3\n",
    "mushroom_X_test_50 = [None] * 3    \n",
    "mushroom_Y_train_50 = [None] * 3\n",
    "mushroom_Y_test_50 = [None] * 3\n",
    "\n",
    "for i in range(3):\n",
    "    mushroom_data = mushroom_data.sample(frac=1).reset_index(drop=True)\n",
    "    mushroom_X = mushroom_data.iloc[:,1:]   \n",
    "    mushroom_Y = mushroom_data.iloc[:,0]\n",
    "    \n",
    "    mushroom_X_train_50[i], mushroom_X_test_50[i], mushroom_Y_train_50[i], mushroom_Y_test_50[i] = train_test_split(mushroom_X, mushroom_Y, test_size=0.5, random_state=0)\n",
    "\n",
    "print(mushroom_X_train_50[0].shape, mushroom_X_test_50[0].shape, mushroom_Y_train_50[0].shape, mushroom_Y_test_50[0].shape)"
   ]
  },
  {
   "cell_type": "code",
   "execution_count": 328,
   "metadata": {},
   "outputs": [
    {
     "name": "stdout",
     "output_type": "stream",
     "text": [
      "(1000, 96) (4000, 96) (1000,) (4000,)\n"
     ]
    }
   ],
   "source": [
    "mushroom_X_train_20 = [None] * 3\n",
    "mushroom_X_test_80 = [None] * 3   \n",
    "mushroom_Y_train_20 = [None] * 3\n",
    "mushroom_Y_test_80 = [None] * 3\n",
    "\n",
    "for i in range(3):\n",
    "    mushroom_data = mushroom_data.sample(frac=1).reset_index(drop=True)\n",
    "    mushroom_X = mushroom_data.iloc[:,1:]   \n",
    "    mushroom_Y = mushroom_data.iloc[:,0]\n",
    "\n",
    "    mushroom_X_train_20[i], mushroom_X_test_80[i], mushroom_Y_train_20[i], mushroom_Y_test_80[i] = train_test_split(mushroom_X, mushroom_Y, test_size=0.8, random_state=0)\n",
    "\n",
    "print(mushroom_X_train_20[0].shape, mushroom_X_test_80[0].shape, mushroom_Y_train_20[0].shape, mushroom_Y_test_80[0].shape)"
   ]
  },
  {
   "cell_type": "markdown",
   "metadata": {},
   "source": [
    "### Wine"
   ]
  },
  {
   "cell_type": "code",
   "execution_count": 280,
   "metadata": {},
   "outputs": [],
   "source": [
    "def convert_quality(quality):\n",
    "    if quality > 5:\n",
    "        return 1.0\n",
    "    return 0.0"
   ]
  },
  {
   "cell_type": "code",
   "execution_count": 299,
   "metadata": {},
   "outputs": [
    {
     "name": "stdout",
     "output_type": "stream",
     "text": [
      "(4898, 12)\n"
     ]
    }
   ],
   "source": [
    "wine_data = pd.read_csv('winequality-white.csv', sep=';')\n",
    "wine_data = wine_data.iloc[:5000,:]\n",
    "\n",
    "wine_data['quality'] = wine_data.apply(lambda row: convert_quality(row['quality']), axis = 1)\n",
    "\n",
    "print(wine_data.shape)"
   ]
  },
  {
   "cell_type": "code",
   "execution_count": 300,
   "metadata": {},
   "outputs": [
    {
     "name": "stdout",
     "output_type": "stream",
     "text": [
      "(3918, 11) (980, 11) (3918,) (980,)\n"
     ]
    }
   ],
   "source": [
    "wine_X_train_80 = [None] * 3\n",
    "wine_X_test_20 = [None] * 3 \n",
    "wine_Y_train_80 = [None] * 3\n",
    "wine_Y_test_20 = [None] * 3\n",
    "\n",
    "for i in range(3):\n",
    "    wine_data = wine_data.sample(frac=1).reset_index(drop=True)\n",
    "    wine_X = wine_data.iloc[:,:-1]   \n",
    "    wine_Y = wine_data.iloc[:,-1]\n",
    "\n",
    "    wine_X_train_80[i], wine_X_test_20[i], wine_Y_train_80[i], wine_Y_test_20[i] = train_test_split(wine_X, wine_Y, test_size=0.2, random_state=0)\n",
    "\n",
    "print(wine_X_train_80[0].shape, wine_X_test_20[0].shape, wine_Y_train_80[0].shape, wine_Y_test_20[0].shape)"
   ]
  },
  {
   "cell_type": "code",
   "execution_count": 301,
   "metadata": {},
   "outputs": [
    {
     "name": "stdout",
     "output_type": "stream",
     "text": [
      "(2449, 11) (2449, 11) (2449,) (2449,)\n"
     ]
    }
   ],
   "source": [
    "wine_X_train_50 = [None] * 3\n",
    "wine_X_test_50 = [None] * 3   \n",
    "wine_Y_train_50 = [None] * 3\n",
    "wine_Y_test_50 = [None] * 3\n",
    "\n",
    "for i in range(3):\n",
    "    wine_data = wine_data.sample(frac=1).reset_index(drop=True)\n",
    "    wine_X = wine_data.iloc[:,:-1]   \n",
    "    wine_Y = wine_data.iloc[:,-1]\n",
    "\n",
    "    wine_X_train_50[i], wine_X_test_50[i], wine_Y_train_50[i], wine_Y_test_50[i] = train_test_split(wine_X, wine_Y, test_size=0.5, random_state=0)\n",
    "\n",
    "print(wine_X_train_50[0].shape, wine_X_test_50[0].shape, wine_Y_train_50[0].shape, wine_Y_test_50[0].shape)"
   ]
  },
  {
   "cell_type": "code",
   "execution_count": 302,
   "metadata": {},
   "outputs": [
    {
     "name": "stdout",
     "output_type": "stream",
     "text": [
      "(979, 11) (3919, 11) (979,) (3919,)\n"
     ]
    }
   ],
   "source": [
    "wine_X_train_20 = [None] * 3\n",
    "wine_X_test_80 = [None] * 3    \n",
    "wine_Y_train_20 = [None] * 3\n",
    "wine_Y_test_80 = [None] * 3\n",
    "\n",
    "for i in range(3):\n",
    "    wine_data = wine_data.sample(frac=1).reset_index(drop=True)\n",
    "    wine_X = wine_data.iloc[:,:-1]   \n",
    "    wine_Y = wine_data.iloc[:,-1]\n",
    "    \n",
    "    wine_X_train_20[i], wine_X_test_80[i], wine_Y_train_20[i], wine_Y_test_80[i] = train_test_split(wine_X, wine_Y, test_size=0.8, random_state=0)\n",
    "\n",
    "print(wine_X_train_20[0].shape, wine_X_test_80[0].shape, wine_Y_train_20[0].shape, wine_Y_test_80[0].shape)"
   ]
  },
  {
   "cell_type": "markdown",
   "metadata": {},
   "source": [
    "### Dota"
   ]
  },
  {
   "cell_type": "code",
   "execution_count": 11,
   "metadata": {},
   "outputs": [
    {
     "name": "stdout",
     "output_type": "stream",
     "text": [
      "(5000, 117)\n"
     ]
    }
   ],
   "source": [
    "dota_data = pd.read_csv('dota2Train.csv', header=None, sep=',')\n",
    "dota_data = dota_data.iloc[:5000,:]\n",
    "\n",
    "print(dota_data.shape)"
   ]
  },
  {
   "cell_type": "code",
   "execution_count": 54,
   "metadata": {},
   "outputs": [
    {
     "name": "stdout",
     "output_type": "stream",
     "text": [
      "(4000, 116) (1000, 116) (4000,) (1000,)\n"
     ]
    }
   ],
   "source": [
    "dota_X_train_80 = [None] * 3\n",
    "dota_X_test_20 = [None] * 3    \n",
    "dota_Y_train_80 = [None] * 3\n",
    "dota_Y_test_20 = [None] * 3\n",
    "\n",
    "for i in range(3):\n",
    "    dota_data = dota_data.sample(frac=1).reset_index(drop=True)\n",
    "    dota_X = dota_data.iloc[:,1:]   \n",
    "    dota_Y = dota_data.iloc[:,0]\n",
    "\n",
    "    dota_X_train_80[i], dota_X_test_20[i], dota_Y_train_80[i], dota_Y_test_20[i] = train_test_split(dota_X, dota_Y, test_size=0.2, random_state=0)\n",
    "\n",
    "print(dota_X_train_80[0].shape, dota_X_test_20[0].shape, dota_Y_train_80[0].shape, dota_Y_test_20[0].shape)"
   ]
  },
  {
   "cell_type": "code",
   "execution_count": 53,
   "metadata": {},
   "outputs": [
    {
     "name": "stdout",
     "output_type": "stream",
     "text": [
      "(2500, 116) (2500, 116) (2500,) (2500,)\n"
     ]
    }
   ],
   "source": [
    "dota_X_train_50 = [None] * 3\n",
    "dota_X_test_50 = [None] * 3    \n",
    "dota_Y_train_50 = [None] * 3\n",
    "dota_Y_test_50 = [None] * 3\n",
    "\n",
    "for i in range(3):\n",
    "    dota_data = dota_data.sample(frac=1).reset_index(drop=True)\n",
    "    dota_X = dota_data.iloc[:,1:]   \n",
    "    dota_Y = dota_data.iloc[:,0]\n",
    "\n",
    "    dota_X_train_50[i], dota_X_test_50[i], dota_Y_train_50[i], dota_Y_test_50[i] = train_test_split(dota_X, dota_Y, test_size=0.5, random_state=0)\n",
    "\n",
    "print(dota_X_train_50[0].shape, dota_X_test_50[0].shape, dota_Y_train_50[0].shape, dota_Y_test_50[0].shape)"
   ]
  },
  {
   "cell_type": "code",
   "execution_count": 52,
   "metadata": {},
   "outputs": [
    {
     "name": "stdout",
     "output_type": "stream",
     "text": [
      "(1000, 116) (4000, 116) (1000,) (4000,)\n"
     ]
    }
   ],
   "source": [
    "dota_X_train_20 = [None] * 3\n",
    "dota_X_test_80 = [None] * 3    \n",
    "dota_Y_train_20 = [None] * 3\n",
    "dota_Y_test_80 = [None] * 3\n",
    "\n",
    "for i in range(3):\n",
    "    dota_data = dota_data.sample(frac=1).reset_index(drop=True)\n",
    "    dota_X = dota_data.iloc[:,1:]   \n",
    "    dota_Y = dota_data.iloc[:,0]\n",
    "\n",
    "    dota_X_train_20[i], dota_X_test_80[i], dota_Y_train_20[i], dota_Y_test_80[i] = train_test_split(dota_X, dota_Y, test_size=0.8, random_state=0)\n",
    "\n",
    "print(dota_X_train_20[0].shape, dota_X_test_80[0].shape, dota_Y_train_20[0].shape, dota_Y_test_80[0].shape)"
   ]
  },
  {
   "cell_type": "markdown",
   "metadata": {},
   "source": [
    "# Classifiers"
   ]
  },
  {
   "cell_type": "code",
   "execution_count": 249,
   "metadata": {},
   "outputs": [],
   "source": [
    "C_list = [10**-3, 10**-2, 10**-1, 10**0]\n",
    "G_list = [0.001, 0.005,0.01, 0.05]"
   ]
  },
  {
   "cell_type": "markdown",
   "metadata": {},
   "source": [
    "## Linear SVM"
   ]
  },
  {
   "cell_type": "markdown",
   "metadata": {},
   "source": [
    "### Mushroom"
   ]
  },
  {
   "cell_type": "markdown",
   "metadata": {},
   "source": [
    "#### 80 / 20"
   ]
  },
  {
   "cell_type": "code",
   "execution_count": 250,
   "metadata": {},
   "outputs": [
    {
     "name": "stdout",
     "output_type": "stream",
     "text": [
      "0\n",
      "1\n",
      "2\n"
     ]
    }
   ],
   "source": [
    "clfs = []\n",
    "\n",
    "for i in range(3):\n",
    "    clf = GridSearchCV(cv=5, estimator=svm.SVC(), param_grid=[{'C': C_list, 'kernel': ['linear'], 'gamma': G_list}], n_jobs=-1)\n",
    "    clf.fit(mushroom_X_train_80[i].values, mushroom_Y_train_80[i].values)\n",
    "    clfs.append(clf)\n",
    "    print(i)"
   ]
  },
  {
   "cell_type": "code",
   "execution_count": 253,
   "metadata": {},
   "outputs": [
    {
     "name": "stdout",
     "output_type": "stream",
     "text": [
      "0\n"
     ]
    },
    {
     "name": "stderr",
     "output_type": "stream",
     "text": [
      "C:\\Users\\ejozy\\Anaconda3\\lib\\site-packages\\sklearn\\utils\\deprecation.py:125: FutureWarning: You are accessing a training score ('mean_train_score'), which will not be available by default any more in 0.21. If you need training scores, please set return_train_score=True\n",
      "  warnings.warn(*warn_args, **warn_kwargs)\n"
     ]
    },
    {
     "name": "stdout",
     "output_type": "stream",
     "text": [
      "1\n"
     ]
    },
    {
     "name": "stderr",
     "output_type": "stream",
     "text": [
      "C:\\Users\\ejozy\\Anaconda3\\lib\\site-packages\\sklearn\\utils\\deprecation.py:125: FutureWarning: You are accessing a training score ('mean_train_score'), which will not be available by default any more in 0.21. If you need training scores, please set return_train_score=True\n",
      "  warnings.warn(*warn_args, **warn_kwargs)\n"
     ]
    },
    {
     "name": "stdout",
     "output_type": "stream",
     "text": [
      "2\n"
     ]
    }
   ],
   "source": [
    "train_accs = []\n",
    "val_accs = []\n",
    "test_accs = []\n",
    "\n",
    "for i in range(3):\n",
    "    train_accs.append(max(clfs[i].cv_results_['mean_train_score'].reshape((16, 1))))\n",
    "    val_accs.append(max(clfs[i].cv_results_['mean_train_score'].reshape((16, 1))))\n",
    "    test_accs.append(svm.SVC(C=clfs[i].best_estimator_.C, kernel='linear', gamma=clfs[i].best_estimator_.gamma).fit(mushroom_X_train_80[i],mushroom_Y_train_80[i]).score(mushroom_X_test_20[i], mushroom_Y_test_20[i]))\n",
    "    print(i)\n"
   ]
  },
  {
   "cell_type": "code",
   "execution_count": 254,
   "metadata": {},
   "outputs": [
    {
     "name": "stdout",
     "output_type": "stream",
     "text": [
      "Best Accuracy: [1.]\n"
     ]
    }
   ],
   "source": [
    "accs = []\n",
    "\n",
    "for i in range(3):\n",
    "    accs.append((train_accs[i] + val_accs[i] + test_accs[i])/3)\n",
    "\n",
    "print('Best Accuracy: ' + str(max(accs)))"
   ]
  },
  {
   "cell_type": "markdown",
   "metadata": {},
   "source": [
    "#### 50 / 50"
   ]
  },
  {
   "cell_type": "code",
   "execution_count": 19,
   "metadata": {},
   "outputs": [
    {
     "name": "stdout",
     "output_type": "stream",
     "text": [
      "0\n",
      "1\n",
      "2\n"
     ]
    }
   ],
   "source": [
    "clfs = []\n",
    "\n",
    "for i in range(3):\n",
    "    clf = GridSearchCV(cv=5, estimator=svm.SVC(), param_grid=[{'C': C_list, 'kernel': ['linear'], 'gamma': G_list}], n_jobs=-1)\n",
    "    clf.fit(mushroom_X_train_50[i].values, mushroom_Y_train_50[i].values)\n",
    "    clfs.append(clf)\n",
    "    print(i)"
   ]
  },
  {
   "cell_type": "code",
   "execution_count": 20,
   "metadata": {},
   "outputs": [
    {
     "name": "stderr",
     "output_type": "stream",
     "text": [
      "C:\\Users\\ejozy\\Anaconda3\\lib\\site-packages\\sklearn\\utils\\deprecation.py:125: FutureWarning: You are accessing a training score ('mean_train_score'), which will not be available by default any more in 0.21. If you need training scores, please set return_train_score=True\n",
      "  warnings.warn(*warn_args, **warn_kwargs)\n"
     ]
    },
    {
     "name": "stdout",
     "output_type": "stream",
     "text": [
      "0\n",
      "1\n"
     ]
    },
    {
     "name": "stderr",
     "output_type": "stream",
     "text": [
      "C:\\Users\\ejozy\\Anaconda3\\lib\\site-packages\\sklearn\\utils\\deprecation.py:125: FutureWarning: You are accessing a training score ('mean_train_score'), which will not be available by default any more in 0.21. If you need training scores, please set return_train_score=True\n",
      "  warnings.warn(*warn_args, **warn_kwargs)\n",
      "C:\\Users\\ejozy\\Anaconda3\\lib\\site-packages\\sklearn\\utils\\deprecation.py:125: FutureWarning: You are accessing a training score ('mean_train_score'), which will not be available by default any more in 0.21. If you need training scores, please set return_train_score=True\n",
      "  warnings.warn(*warn_args, **warn_kwargs)\n"
     ]
    },
    {
     "name": "stdout",
     "output_type": "stream",
     "text": [
      "2\n"
     ]
    }
   ],
   "source": [
    "train_accs = []\n",
    "val_accs = []\n",
    "test_accs = []\n",
    "\n",
    "for i in range(3):\n",
    "    train_accs.append(max(clfs[i].cv_results_['mean_train_score'].reshape((16, 1))))\n",
    "    val_accs.append(max(clfs[i].cv_results_['mean_train_score'].reshape((16, 1))))\n",
    "    test_accs.append(svm.SVC(C=clfs[i].best_estimator_.C, kernel='linear', gamma=clfs[i].best_estimator_.gamma).fit(mushroom_X_train_50[i],mushroom_Y_train_50[i]).score(mushroom_X_test_50[i], mushroom_Y_test_50[i]))\n",
    "    print(i)\n"
   ]
  },
  {
   "cell_type": "code",
   "execution_count": 21,
   "metadata": {},
   "outputs": [
    {
     "name": "stdout",
     "output_type": "stream",
     "text": [
      "Best Accuracy: [1.]\n"
     ]
    }
   ],
   "source": [
    "accs = []\n",
    "\n",
    "for i in range(3):\n",
    "    accs.append((train_accs[i] + val_accs[i] + test_accs[i])/3)\n",
    "\n",
    "print('Best Accuracy: ' + str(max(accs)))"
   ]
  },
  {
   "cell_type": "markdown",
   "metadata": {},
   "source": [
    "#### 20  / 80"
   ]
  },
  {
   "cell_type": "code",
   "execution_count": 22,
   "metadata": {},
   "outputs": [
    {
     "name": "stdout",
     "output_type": "stream",
     "text": [
      "0\n",
      "1\n",
      "2\n"
     ]
    }
   ],
   "source": [
    "clfs = []\n",
    "\n",
    "for i in range(3):\n",
    "    clf = GridSearchCV(cv=5, estimator=svm.SVC(), param_grid=[{'C': C_list, 'kernel': ['linear'], 'gamma': G_list}], n_jobs=-1)\n",
    "    clf.fit(mushroom_X_train_20[i].values, mushroom_Y_train_20[i].values)\n",
    "    clfs.append(clf)\n",
    "    print(i)"
   ]
  },
  {
   "cell_type": "code",
   "execution_count": 23,
   "metadata": {},
   "outputs": [
    {
     "name": "stdout",
     "output_type": "stream",
     "text": [
      "0\n"
     ]
    },
    {
     "name": "stderr",
     "output_type": "stream",
     "text": [
      "C:\\Users\\ejozy\\Anaconda3\\lib\\site-packages\\sklearn\\utils\\deprecation.py:125: FutureWarning: You are accessing a training score ('mean_train_score'), which will not be available by default any more in 0.21. If you need training scores, please set return_train_score=True\n",
      "  warnings.warn(*warn_args, **warn_kwargs)\n",
      "C:\\Users\\ejozy\\Anaconda3\\lib\\site-packages\\sklearn\\utils\\deprecation.py:125: FutureWarning: You are accessing a training score ('mean_train_score'), which will not be available by default any more in 0.21. If you need training scores, please set return_train_score=True\n",
      "  warnings.warn(*warn_args, **warn_kwargs)\n"
     ]
    },
    {
     "name": "stdout",
     "output_type": "stream",
     "text": [
      "1\n",
      "2\n"
     ]
    },
    {
     "name": "stderr",
     "output_type": "stream",
     "text": [
      "C:\\Users\\ejozy\\Anaconda3\\lib\\site-packages\\sklearn\\utils\\deprecation.py:125: FutureWarning: You are accessing a training score ('mean_train_score'), which will not be available by default any more in 0.21. If you need training scores, please set return_train_score=True\n",
      "  warnings.warn(*warn_args, **warn_kwargs)\n"
     ]
    }
   ],
   "source": [
    "train_accs = []\n",
    "val_accs = []\n",
    "test_accs = []\n",
    "\n",
    "for i in range(3):\n",
    "    train_accs.append(max(clfs[i].cv_results_['mean_train_score'].reshape((16, 1))))\n",
    "    val_accs.append(max(clfs[i].cv_results_['mean_train_score'].reshape((16, 1))))\n",
    "    test_accs.append(svm.SVC(C=clfs[i].best_estimator_.C, kernel='linear', gamma=clfs[i].best_estimator_.gamma).fit(mushroom_X_train_20[i],mushroom_Y_train_20[i]).score(mushroom_X_test_80[i], mushroom_Y_test_80[i]))\n",
    "    print(i)\n"
   ]
  },
  {
   "cell_type": "code",
   "execution_count": 24,
   "metadata": {},
   "outputs": [
    {
     "name": "stdout",
     "output_type": "stream",
     "text": [
      "Best Accuracy: [1.]\n"
     ]
    }
   ],
   "source": [
    "accs = []\n",
    "\n",
    "for i in range(3):\n",
    "    accs.append((train_accs[i] + val_accs[i] + test_accs[i])/3)\n",
    "\n",
    "print('Best Accuracy: ' + str(max(accs)))"
   ]
  },
  {
   "cell_type": "markdown",
   "metadata": {},
   "source": [
    "### Wine"
   ]
  },
  {
   "cell_type": "markdown",
   "metadata": {},
   "source": [
    "#### 80 / 20"
   ]
  },
  {
   "cell_type": "code",
   "execution_count": 296,
   "metadata": {},
   "outputs": [
    {
     "name": "stdout",
     "output_type": "stream",
     "text": [
      "0\n",
      "1\n",
      "2\n"
     ]
    }
   ],
   "source": [
    "clfs = []\n",
    "\n",
    "for i in range(3):\n",
    "    clf = GridSearchCV(cv=5, estimator=svm.SVC(), param_grid=[{'C': C_list, 'kernel': ['linear'], 'gamma': G_list}], n_jobs=-1)\n",
    "    clf.fit(wine_X_train_80[i].values, wine_Y_train_80[i].values)\n",
    "    clfs.append(clf)\n",
    "    print(i)"
   ]
  },
  {
   "cell_type": "code",
   "execution_count": 297,
   "metadata": {},
   "outputs": [
    {
     "name": "stderr",
     "output_type": "stream",
     "text": [
      "C:\\Users\\ejozy\\Anaconda3\\lib\\site-packages\\sklearn\\utils\\deprecation.py:125: FutureWarning: You are accessing a training score ('mean_train_score'), which will not be available by default any more in 0.21. If you need training scores, please set return_train_score=True\n",
      "  warnings.warn(*warn_args, **warn_kwargs)\n"
     ]
    },
    {
     "name": "stdout",
     "output_type": "stream",
     "text": [
      "0\n"
     ]
    },
    {
     "name": "stderr",
     "output_type": "stream",
     "text": [
      "C:\\Users\\ejozy\\Anaconda3\\lib\\site-packages\\sklearn\\utils\\deprecation.py:125: FutureWarning: You are accessing a training score ('mean_train_score'), which will not be available by default any more in 0.21. If you need training scores, please set return_train_score=True\n",
      "  warnings.warn(*warn_args, **warn_kwargs)\n"
     ]
    },
    {
     "name": "stdout",
     "output_type": "stream",
     "text": [
      "1\n"
     ]
    },
    {
     "name": "stderr",
     "output_type": "stream",
     "text": [
      "C:\\Users\\ejozy\\Anaconda3\\lib\\site-packages\\sklearn\\utils\\deprecation.py:125: FutureWarning: You are accessing a training score ('mean_train_score'), which will not be available by default any more in 0.21. If you need training scores, please set return_train_score=True\n",
      "  warnings.warn(*warn_args, **warn_kwargs)\n"
     ]
    },
    {
     "name": "stdout",
     "output_type": "stream",
     "text": [
      "2\n"
     ]
    }
   ],
   "source": [
    "train_accs = []\n",
    "val_accs = []\n",
    "test_accs = []\n",
    "\n",
    "for i in range(3):\n",
    "    train_accs.append(max(clfs[i].cv_results_['mean_train_score'].reshape((16, 1))))\n",
    "    val_accs.append(max(clfs[i].cv_results_['mean_train_score'].reshape((16, 1))))\n",
    "    test_accs.append(svm.SVC(C=clfs[i].best_estimator_.C, kernel='linear', gamma=clfs[i].best_estimator_.gamma).fit(wine_X_train_80[i],wine_Y_train_80[i]).score(wine_X_test_20[i], wine_Y_test_20[i]))\n",
    "    print(i)\n"
   ]
  },
  {
   "cell_type": "code",
   "execution_count": 298,
   "metadata": {},
   "outputs": [
    {
     "name": "stdout",
     "output_type": "stream",
     "text": [
      "Best Accuracy: [0.72604427]\n"
     ]
    }
   ],
   "source": [
    "accs = []\n",
    "\n",
    "for i in range(3):\n",
    "    accs.append((train_accs[i] + val_accs[i] + test_accs[i])/3)\n",
    "\n",
    "print('Best Accuracy: ' + str(max(accs)))"
   ]
  },
  {
   "cell_type": "markdown",
   "metadata": {},
   "source": [
    "#### 50 / 50"
   ]
  },
  {
   "cell_type": "code",
   "execution_count": 259,
   "metadata": {},
   "outputs": [
    {
     "name": "stderr",
     "output_type": "stream",
     "text": [
      "C:\\Users\\ejozy\\Anaconda3\\lib\\site-packages\\sklearn\\model_selection\\_split.py:652: Warning: The least populated class in y has only 3 members, which is too few. The minimum number of members in any class cannot be less than n_splits=5.\n",
      "  % (min_groups, self.n_splits)), Warning)\n"
     ]
    },
    {
     "name": "stdout",
     "output_type": "stream",
     "text": [
      "0\n"
     ]
    },
    {
     "name": "stderr",
     "output_type": "stream",
     "text": [
      "C:\\Users\\ejozy\\Anaconda3\\lib\\site-packages\\sklearn\\model_selection\\_split.py:652: Warning: The least populated class in y has only 2 members, which is too few. The minimum number of members in any class cannot be less than n_splits=5.\n",
      "  % (min_groups, self.n_splits)), Warning)\n"
     ]
    },
    {
     "name": "stdout",
     "output_type": "stream",
     "text": [
      "1\n"
     ]
    },
    {
     "name": "stderr",
     "output_type": "stream",
     "text": [
      "C:\\Users\\ejozy\\Anaconda3\\lib\\site-packages\\sklearn\\model_selection\\_split.py:652: Warning: The least populated class in y has only 3 members, which is too few. The minimum number of members in any class cannot be less than n_splits=5.\n",
      "  % (min_groups, self.n_splits)), Warning)\n"
     ]
    },
    {
     "name": "stdout",
     "output_type": "stream",
     "text": [
      "2\n"
     ]
    }
   ],
   "source": [
    "clfs = []\n",
    "\n",
    "for i in range(3):\n",
    "    clf = GridSearchCV(cv=5, estimator=svm.SVC(), param_grid=[{'C': C_list, 'kernel': ['linear'], 'gamma': G_list}], n_jobs=-1)\n",
    "    clf.fit(wine_X_train_50[i].values, wine_Y_train_50[i].values)\n",
    "    clfs.append(clf)\n",
    "    print(i)"
   ]
  },
  {
   "cell_type": "code",
   "execution_count": 260,
   "metadata": {},
   "outputs": [
    {
     "name": "stderr",
     "output_type": "stream",
     "text": [
      "C:\\Users\\ejozy\\Anaconda3\\lib\\site-packages\\sklearn\\utils\\deprecation.py:125: FutureWarning: You are accessing a training score ('mean_train_score'), which will not be available by default any more in 0.21. If you need training scores, please set return_train_score=True\n",
      "  warnings.warn(*warn_args, **warn_kwargs)\n"
     ]
    },
    {
     "name": "stdout",
     "output_type": "stream",
     "text": [
      "0\n"
     ]
    },
    {
     "name": "stderr",
     "output_type": "stream",
     "text": [
      "C:\\Users\\ejozy\\Anaconda3\\lib\\site-packages\\sklearn\\utils\\deprecation.py:125: FutureWarning: You are accessing a training score ('mean_train_score'), which will not be available by default any more in 0.21. If you need training scores, please set return_train_score=True\n",
      "  warnings.warn(*warn_args, **warn_kwargs)\n"
     ]
    },
    {
     "name": "stdout",
     "output_type": "stream",
     "text": [
      "1\n"
     ]
    },
    {
     "name": "stderr",
     "output_type": "stream",
     "text": [
      "C:\\Users\\ejozy\\Anaconda3\\lib\\site-packages\\sklearn\\utils\\deprecation.py:125: FutureWarning: You are accessing a training score ('mean_train_score'), which will not be available by default any more in 0.21. If you need training scores, please set return_train_score=True\n",
      "  warnings.warn(*warn_args, **warn_kwargs)\n"
     ]
    },
    {
     "name": "stdout",
     "output_type": "stream",
     "text": [
      "2\n"
     ]
    }
   ],
   "source": [
    "train_accs = []\n",
    "val_accs = []\n",
    "test_accs = []\n",
    "\n",
    "for i in range(3):\n",
    "    train_accs.append(max(clfs[i].cv_results_['mean_train_score'].reshape((16, 1))))\n",
    "    val_accs.append(max(clfs[i].cv_results_['mean_train_score'].reshape((16, 1))))\n",
    "    test_accs.append(svm.SVC(C=clfs[i].best_estimator_.C, kernel='linear', gamma=clfs[i].best_estimator_.gamma).fit(wine_X_train_50[i],wine_Y_train_50[i]).score(wine_X_test_50[i], wine_Y_test_50[i]))\n",
    "    print(i)\n"
   ]
  },
  {
   "cell_type": "code",
   "execution_count": 261,
   "metadata": {},
   "outputs": [
    {
     "name": "stdout",
     "output_type": "stream",
     "text": [
      "Best Accuracy: [0.49249977]\n"
     ]
    }
   ],
   "source": [
    "accs = []\n",
    "\n",
    "for i in range(3):\n",
    "    accs.append((train_accs[i] + val_accs[i] + test_accs[i])/3)\n",
    "\n",
    "print('Best Accuracy: ' + str(max(accs)))"
   ]
  },
  {
   "cell_type": "markdown",
   "metadata": {},
   "source": [
    "#### 20  / 80"
   ]
  },
  {
   "cell_type": "code",
   "execution_count": 262,
   "metadata": {},
   "outputs": [
    {
     "name": "stderr",
     "output_type": "stream",
     "text": [
      "C:\\Users\\ejozy\\Anaconda3\\lib\\site-packages\\sklearn\\model_selection\\_split.py:652: Warning: The least populated class in y has only 1 members, which is too few. The minimum number of members in any class cannot be less than n_splits=5.\n",
      "  % (min_groups, self.n_splits)), Warning)\n",
      "C:\\Users\\ejozy\\Anaconda3\\lib\\site-packages\\sklearn\\model_selection\\_search.py:841: DeprecationWarning: The default of the `iid` parameter will change from True to False in version 0.22 and will be removed in 0.24. This will change numeric results when test-set sizes are unequal.\n",
      "  DeprecationWarning)\n",
      "C:\\Users\\ejozy\\Anaconda3\\lib\\site-packages\\sklearn\\model_selection\\_split.py:652: Warning: The least populated class in y has only 2 members, which is too few. The minimum number of members in any class cannot be less than n_splits=5.\n",
      "  % (min_groups, self.n_splits)), Warning)\n"
     ]
    },
    {
     "name": "stdout",
     "output_type": "stream",
     "text": [
      "0\n"
     ]
    },
    {
     "name": "stderr",
     "output_type": "stream",
     "text": [
      "C:\\Users\\ejozy\\Anaconda3\\lib\\site-packages\\sklearn\\model_selection\\_search.py:841: DeprecationWarning: The default of the `iid` parameter will change from True to False in version 0.22 and will be removed in 0.24. This will change numeric results when test-set sizes are unequal.\n",
      "  DeprecationWarning)\n"
     ]
    },
    {
     "name": "stdout",
     "output_type": "stream",
     "text": [
      "1\n"
     ]
    },
    {
     "name": "stderr",
     "output_type": "stream",
     "text": [
      "C:\\Users\\ejozy\\Anaconda3\\lib\\site-packages\\sklearn\\model_selection\\_split.py:652: Warning: The least populated class in y has only 2 members, which is too few. The minimum number of members in any class cannot be less than n_splits=5.\n",
      "  % (min_groups, self.n_splits)), Warning)\n",
      "C:\\Users\\ejozy\\Anaconda3\\lib\\site-packages\\sklearn\\model_selection\\_search.py:841: DeprecationWarning: The default of the `iid` parameter will change from True to False in version 0.22 and will be removed in 0.24. This will change numeric results when test-set sizes are unequal.\n",
      "  DeprecationWarning)\n"
     ]
    },
    {
     "name": "stdout",
     "output_type": "stream",
     "text": [
      "2\n"
     ]
    }
   ],
   "source": [
    "clfs = []\n",
    "\n",
    "for i in range(3):\n",
    "    clf = GridSearchCV(cv=5, estimator=svm.SVC(), param_grid=[{'C': C_list, 'kernel': ['linear'], 'gamma': G_list}], n_jobs=-1)\n",
    "    clf.fit(wine_X_train_20[i].values, wine_Y_train_20[i].values)\n",
    "    clfs.append(clf)\n",
    "    print(i)"
   ]
  },
  {
   "cell_type": "code",
   "execution_count": 263,
   "metadata": {},
   "outputs": [
    {
     "name": "stdout",
     "output_type": "stream",
     "text": [
      "0\n"
     ]
    },
    {
     "name": "stderr",
     "output_type": "stream",
     "text": [
      "C:\\Users\\ejozy\\Anaconda3\\lib\\site-packages\\sklearn\\utils\\deprecation.py:125: FutureWarning: You are accessing a training score ('mean_train_score'), which will not be available by default any more in 0.21. If you need training scores, please set return_train_score=True\n",
      "  warnings.warn(*warn_args, **warn_kwargs)\n",
      "C:\\Users\\ejozy\\Anaconda3\\lib\\site-packages\\sklearn\\utils\\deprecation.py:125: FutureWarning: You are accessing a training score ('mean_train_score'), which will not be available by default any more in 0.21. If you need training scores, please set return_train_score=True\n",
      "  warnings.warn(*warn_args, **warn_kwargs)\n"
     ]
    },
    {
     "name": "stdout",
     "output_type": "stream",
     "text": [
      "1\n"
     ]
    },
    {
     "name": "stderr",
     "output_type": "stream",
     "text": [
      "C:\\Users\\ejozy\\Anaconda3\\lib\\site-packages\\sklearn\\utils\\deprecation.py:125: FutureWarning: You are accessing a training score ('mean_train_score'), which will not be available by default any more in 0.21. If you need training scores, please set return_train_score=True\n",
      "  warnings.warn(*warn_args, **warn_kwargs)\n"
     ]
    },
    {
     "name": "stdout",
     "output_type": "stream",
     "text": [
      "2\n"
     ]
    }
   ],
   "source": [
    "train_accs = []\n",
    "val_accs = []\n",
    "test_accs = []\n",
    "\n",
    "for i in range(3):\n",
    "    train_accs.append(max(clfs[i].cv_results_['mean_train_score'].reshape((16, 1))))\n",
    "    val_accs.append(max(clfs[i].cv_results_['mean_train_score'].reshape((16, 1))))\n",
    "    test_accs.append(svm.SVC(C=clfs[i].best_estimator_.C, kernel='linear', gamma=clfs[i].best_estimator_.gamma).fit(wine_X_train_20[i],wine_Y_train_20[i]).score(wine_X_test_80[i], wine_Y_test_80[i]))\n",
    "    print(i)\n"
   ]
  },
  {
   "cell_type": "code",
   "execution_count": 264,
   "metadata": {},
   "outputs": [
    {
     "name": "stdout",
     "output_type": "stream",
     "text": [
      "Best Accuracy: [0.48319063]\n"
     ]
    }
   ],
   "source": [
    "accs = []\n",
    "\n",
    "for i in range(3):\n",
    "    accs.append((train_accs[i] + val_accs[i] + test_accs[i])/3)\n",
    "\n",
    "print('Best Accuracy: ' + str(max(accs)))"
   ]
  },
  {
   "cell_type": "markdown",
   "metadata": {},
   "source": [
    "### Dota"
   ]
  },
  {
   "cell_type": "markdown",
   "metadata": {},
   "source": [
    "#### 80 / 20"
   ]
  },
  {
   "cell_type": "code",
   "execution_count": 265,
   "metadata": {},
   "outputs": [
    {
     "name": "stdout",
     "output_type": "stream",
     "text": [
      "0\n",
      "1\n",
      "2\n"
     ]
    }
   ],
   "source": [
    "clfs = []\n",
    "\n",
    "for i in range(3):\n",
    "    clf = GridSearchCV(cv=5, estimator=svm.SVC(), param_grid=[{'C': C_list, 'kernel': ['linear'], 'gamma': G_list}], n_jobs=-1)\n",
    "    clf.fit(dota_X_train_80[i].values, dota_Y_train_80[i].values)\n",
    "    clfs.append(clf)\n",
    "    print(i)"
   ]
  },
  {
   "cell_type": "code",
   "execution_count": 266,
   "metadata": {},
   "outputs": [
    {
     "name": "stderr",
     "output_type": "stream",
     "text": [
      "C:\\Users\\ejozy\\Anaconda3\\lib\\site-packages\\sklearn\\utils\\deprecation.py:125: FutureWarning: You are accessing a training score ('mean_train_score'), which will not be available by default any more in 0.21. If you need training scores, please set return_train_score=True\n",
      "  warnings.warn(*warn_args, **warn_kwargs)\n"
     ]
    },
    {
     "name": "stdout",
     "output_type": "stream",
     "text": [
      "0\n"
     ]
    },
    {
     "name": "stderr",
     "output_type": "stream",
     "text": [
      "C:\\Users\\ejozy\\Anaconda3\\lib\\site-packages\\sklearn\\utils\\deprecation.py:125: FutureWarning: You are accessing a training score ('mean_train_score'), which will not be available by default any more in 0.21. If you need training scores, please set return_train_score=True\n",
      "  warnings.warn(*warn_args, **warn_kwargs)\n"
     ]
    },
    {
     "name": "stdout",
     "output_type": "stream",
     "text": [
      "1\n"
     ]
    },
    {
     "name": "stderr",
     "output_type": "stream",
     "text": [
      "C:\\Users\\ejozy\\Anaconda3\\lib\\site-packages\\sklearn\\utils\\deprecation.py:125: FutureWarning: You are accessing a training score ('mean_train_score'), which will not be available by default any more in 0.21. If you need training scores, please set return_train_score=True\n",
      "  warnings.warn(*warn_args, **warn_kwargs)\n"
     ]
    },
    {
     "name": "stdout",
     "output_type": "stream",
     "text": [
      "2\n"
     ]
    }
   ],
   "source": [
    "train_accs = []\n",
    "val_accs = []\n",
    "test_accs = []\n",
    "\n",
    "for i in range(3):\n",
    "    train_accs.append(max(clfs[i].cv_results_['mean_train_score'].reshape((16, 1))))\n",
    "    val_accs.append(max(clfs[i].cv_results_['mean_train_score'].reshape((16, 1))))\n",
    "    test_accs.append(svm.SVC(C=clfs[i].best_estimator_.C, kernel='linear', gamma=clfs[i].best_estimator_.gamma).fit(dota_X_train_80[i],dota_Y_train_80[i]).score(dota_X_test_20[i], dota_Y_test_20[i]))\n",
    "    print(i)\n"
   ]
  },
  {
   "cell_type": "code",
   "execution_count": 267,
   "metadata": {},
   "outputs": [
    {
     "name": "stdout",
     "output_type": "stream",
     "text": [
      "Best Accuracy: [0.62337498]\n"
     ]
    }
   ],
   "source": [
    "accs = []\n",
    "\n",
    "for i in range(3):\n",
    "    accs.append((train_accs[i] + val_accs[i] + test_accs[i])/3)\n",
    "\n",
    "print('Best Accuracy: ' + str(max(accs)))"
   ]
  },
  {
   "cell_type": "markdown",
   "metadata": {},
   "source": [
    "#### 50 / 50"
   ]
  },
  {
   "cell_type": "code",
   "execution_count": 268,
   "metadata": {},
   "outputs": [
    {
     "name": "stdout",
     "output_type": "stream",
     "text": [
      "0\n",
      "1\n",
      "2\n"
     ]
    }
   ],
   "source": [
    "clfs = []\n",
    "\n",
    "for i in range(3):\n",
    "    clf = GridSearchCV(cv=5, estimator=svm.SVC(), param_grid=[{'C': C_list, 'kernel': ['linear'], 'gamma': G_list}], n_jobs=-1)\n",
    "    clf.fit(dota_X_train_50[i].values, dota_Y_train_50[i].values)\n",
    "    clfs.append(clf)\n",
    "    print(i)"
   ]
  },
  {
   "cell_type": "code",
   "execution_count": 269,
   "metadata": {},
   "outputs": [
    {
     "name": "stderr",
     "output_type": "stream",
     "text": [
      "C:\\Users\\ejozy\\Anaconda3\\lib\\site-packages\\sklearn\\utils\\deprecation.py:125: FutureWarning: You are accessing a training score ('mean_train_score'), which will not be available by default any more in 0.21. If you need training scores, please set return_train_score=True\n",
      "  warnings.warn(*warn_args, **warn_kwargs)\n"
     ]
    },
    {
     "name": "stdout",
     "output_type": "stream",
     "text": [
      "0\n"
     ]
    },
    {
     "name": "stderr",
     "output_type": "stream",
     "text": [
      "C:\\Users\\ejozy\\Anaconda3\\lib\\site-packages\\sklearn\\utils\\deprecation.py:125: FutureWarning: You are accessing a training score ('mean_train_score'), which will not be available by default any more in 0.21. If you need training scores, please set return_train_score=True\n",
      "  warnings.warn(*warn_args, **warn_kwargs)\n"
     ]
    },
    {
     "name": "stdout",
     "output_type": "stream",
     "text": [
      "1\n"
     ]
    },
    {
     "name": "stderr",
     "output_type": "stream",
     "text": [
      "C:\\Users\\ejozy\\Anaconda3\\lib\\site-packages\\sklearn\\utils\\deprecation.py:125: FutureWarning: You are accessing a training score ('mean_train_score'), which will not be available by default any more in 0.21. If you need training scores, please set return_train_score=True\n",
      "  warnings.warn(*warn_args, **warn_kwargs)\n"
     ]
    },
    {
     "name": "stdout",
     "output_type": "stream",
     "text": [
      "2\n"
     ]
    }
   ],
   "source": [
    "train_accs = []\n",
    "val_accs = []\n",
    "test_accs = []\n",
    "\n",
    "for i in range(3):\n",
    "    train_accs.append(max(clfs[i].cv_results_['mean_train_score'].reshape((16, 1))))\n",
    "    val_accs.append(max(clfs[i].cv_results_['mean_train_score'].reshape((16, 1))))\n",
    "    test_accs.append(svm.SVC(C=clfs[i].best_estimator_.C, kernel='linear', gamma=clfs[i].best_estimator_.gamma).fit(dota_X_train_50[i],dota_Y_train_50[i]).score(dota_X_test_50[i], dota_Y_test_50[i]))\n",
    "    print(i)\n"
   ]
  },
  {
   "cell_type": "code",
   "execution_count": 270,
   "metadata": {},
   "outputs": [
    {
     "name": "stdout",
     "output_type": "stream",
     "text": [
      "Best Accuracy: [0.62846661]\n"
     ]
    }
   ],
   "source": [
    "accs = []\n",
    "\n",
    "for i in range(3):\n",
    "    accs.append((train_accs[i] + val_accs[i] + test_accs[i])/3)\n",
    "\n",
    "print('Best Accuracy: ' + str(max(accs)))"
   ]
  },
  {
   "cell_type": "markdown",
   "metadata": {},
   "source": [
    "#### 20  / 80"
   ]
  },
  {
   "cell_type": "code",
   "execution_count": 271,
   "metadata": {},
   "outputs": [
    {
     "name": "stdout",
     "output_type": "stream",
     "text": [
      "0\n",
      "1\n",
      "2\n"
     ]
    }
   ],
   "source": [
    "clfs = []\n",
    "\n",
    "for i in range(3):\n",
    "    clf = GridSearchCV(cv=5, estimator=svm.SVC(), param_grid=[{'C': C_list, 'kernel': ['linear'], 'gamma': G_list}], n_jobs=-1)\n",
    "    clf.fit(dota_X_train_20[i].values, dota_Y_train_20[i].values)\n",
    "    clfs.append(clf)\n",
    "    print(i)"
   ]
  },
  {
   "cell_type": "code",
   "execution_count": 272,
   "metadata": {},
   "outputs": [
    {
     "name": "stderr",
     "output_type": "stream",
     "text": [
      "C:\\Users\\ejozy\\Anaconda3\\lib\\site-packages\\sklearn\\utils\\deprecation.py:125: FutureWarning: You are accessing a training score ('mean_train_score'), which will not be available by default any more in 0.21. If you need training scores, please set return_train_score=True\n",
      "  warnings.warn(*warn_args, **warn_kwargs)\n"
     ]
    },
    {
     "name": "stdout",
     "output_type": "stream",
     "text": [
      "0\n"
     ]
    },
    {
     "name": "stderr",
     "output_type": "stream",
     "text": [
      "C:\\Users\\ejozy\\Anaconda3\\lib\\site-packages\\sklearn\\utils\\deprecation.py:125: FutureWarning: You are accessing a training score ('mean_train_score'), which will not be available by default any more in 0.21. If you need training scores, please set return_train_score=True\n",
      "  warnings.warn(*warn_args, **warn_kwargs)\n"
     ]
    },
    {
     "name": "stdout",
     "output_type": "stream",
     "text": [
      "1\n"
     ]
    },
    {
     "name": "stderr",
     "output_type": "stream",
     "text": [
      "C:\\Users\\ejozy\\Anaconda3\\lib\\site-packages\\sklearn\\utils\\deprecation.py:125: FutureWarning: You are accessing a training score ('mean_train_score'), which will not be available by default any more in 0.21. If you need training scores, please set return_train_score=True\n",
      "  warnings.warn(*warn_args, **warn_kwargs)\n"
     ]
    },
    {
     "name": "stdout",
     "output_type": "stream",
     "text": [
      "2\n"
     ]
    }
   ],
   "source": [
    "train_accs = []\n",
    "val_accs = []\n",
    "test_accs = []\n",
    "\n",
    "for i in range(3):\n",
    "    train_accs.append(max(clfs[i].cv_results_['mean_train_score'].reshape((16, 1))))\n",
    "    val_accs.append(max(clfs[i].cv_results_['mean_train_score'].reshape((16, 1))))\n",
    "    test_accs.append(svm.SVC(C=clfs[i].best_estimator_.C, kernel='linear', gamma=clfs[i].best_estimator_.gamma).fit(dota_X_train_20[i],dota_Y_train_20[i]).score(dota_X_test_80[i], dota_Y_test_80[i]))\n",
    "    print(i)\n"
   ]
  },
  {
   "cell_type": "code",
   "execution_count": 273,
   "metadata": {},
   "outputs": [
    {
     "name": "stdout",
     "output_type": "stream",
     "text": [
      "Best Accuracy: [0.65866134]\n"
     ]
    }
   ],
   "source": [
    "accs = []\n",
    "\n",
    "for i in range(3):\n",
    "    accs.append((train_accs[i] + val_accs[i] + test_accs[i])/3)\n",
    "\n",
    "print('Best Accuracy: ' + str(max(accs)))"
   ]
  },
  {
   "cell_type": "markdown",
   "metadata": {},
   "source": [
    "# Logistic Regression"
   ]
  },
  {
   "cell_type": "markdown",
   "metadata": {},
   "source": [
    "### Mushroom"
   ]
  },
  {
   "cell_type": "markdown",
   "metadata": {},
   "source": [
    "#### 80 / 20"
   ]
  },
  {
   "cell_type": "code",
   "execution_count": 329,
   "metadata": {},
   "outputs": [
    {
     "name": "stdout",
     "output_type": "stream",
     "text": [
      "0\n",
      "1\n",
      "2\n"
     ]
    }
   ],
   "source": [
    "logregs = []\n",
    "\n",
    "for i in range(3):\n",
    "    logreg = LogisticRegressionCV(Cs= C_list, solver='liblinear', multi_class='ovr', n_jobs=-1, cv=5)\n",
    "    logreg.fit(mushroom_X_train_80[i].values, mushroom_Y_train_80[i].values)\n",
    "    logregs.append(logreg)\n",
    "    print(i)"
   ]
  },
  {
   "cell_type": "code",
   "execution_count": 330,
   "metadata": {},
   "outputs": [
    {
     "name": "stdout",
     "output_type": "stream",
     "text": [
      "0\n",
      "1\n",
      "2\n"
     ]
    }
   ],
   "source": [
    "train_accs = []\n",
    "val_accs = []\n",
    "test_accs = []\n",
    "\n",
    "for i in range(3):\n",
    "    train_accs.append(logregs[i].score(mushroom_X_train_80[i], mushroom_Y_train_80[i]))\n",
    "    val_accs.append(logregs[i].score(mushroom_X_train_80[i], mushroom_Y_train_80[i]))\n",
    "    test_accs.append(logregs[i].score(mushroom_X_test_20[i], mushroom_Y_test_20[i]))\n",
    "    print(i)\n"
   ]
  },
  {
   "cell_type": "code",
   "execution_count": 331,
   "metadata": {},
   "outputs": [
    {
     "name": "stdout",
     "output_type": "stream",
     "text": [
      "Best Accuracy: 0.9998333333333335\n"
     ]
    }
   ],
   "source": [
    "accs = []\n",
    "\n",
    "for i in range(3):\n",
    "    accs.append((train_accs[i] + val_accs[i] + test_accs[i])/3)\n",
    "\n",
    "print('Best Accuracy: ' + str(max(accs)))"
   ]
  },
  {
   "cell_type": "markdown",
   "metadata": {},
   "source": [
    "#### 50 / 50"
   ]
  },
  {
   "cell_type": "code",
   "execution_count": 332,
   "metadata": {},
   "outputs": [
    {
     "name": "stdout",
     "output_type": "stream",
     "text": [
      "0\n",
      "1\n",
      "2\n"
     ]
    }
   ],
   "source": [
    "logregs = []\n",
    "\n",
    "for i in range(3):\n",
    "    logreg = LogisticRegressionCV(Cs= C_list, solver='liblinear', multi_class='ovr', n_jobs=-1, cv=5)\n",
    "    logreg.fit(mushroom_X_train_50[i].values, mushroom_Y_train_50[i].values)\n",
    "    logregs.append(logreg)\n",
    "    print(i)"
   ]
  },
  {
   "cell_type": "code",
   "execution_count": 333,
   "metadata": {},
   "outputs": [
    {
     "name": "stdout",
     "output_type": "stream",
     "text": [
      "0\n",
      "1\n",
      "2\n"
     ]
    }
   ],
   "source": [
    "train_accs = []\n",
    "val_accs = []\n",
    "test_accs = []\n",
    "\n",
    "for i in range(3):\n",
    "    train_accs.append(logregs[i].score(mushroom_X_train_50[i], mushroom_Y_train_50[i]))\n",
    "    val_accs.append(logregs[i].score(mushroom_X_train_50[i], mushroom_Y_train_50[i]))\n",
    "    test_accs.append(logregs[i].score(mushroom_X_test_50[i], mushroom_Y_test_50[i]))\n",
    "    print(i)\n"
   ]
  },
  {
   "cell_type": "code",
   "execution_count": 334,
   "metadata": {},
   "outputs": [
    {
     "name": "stdout",
     "output_type": "stream",
     "text": [
      "Best Accuracy: 0.9994666666666667\n"
     ]
    }
   ],
   "source": [
    "accs = []\n",
    "\n",
    "for i in range(3):\n",
    "    accs.append((train_accs[i] + val_accs[i] + test_accs[i])/3)\n",
    "\n",
    "print('Best Accuracy: ' + str(max(accs)))"
   ]
  },
  {
   "cell_type": "markdown",
   "metadata": {},
   "source": [
    "#### 20 / 80"
   ]
  },
  {
   "cell_type": "code",
   "execution_count": 335,
   "metadata": {},
   "outputs": [
    {
     "name": "stdout",
     "output_type": "stream",
     "text": [
      "0\n",
      "1\n",
      "2\n"
     ]
    }
   ],
   "source": [
    "logregs = []\n",
    "\n",
    "for i in range(3):\n",
    "    logreg = LogisticRegressionCV(Cs= C_list, solver='liblinear', multi_class='ovr', n_jobs=-1, cv=5)\n",
    "    logreg.fit(mushroom_X_train_20[i].values, mushroom_Y_train_20[i].values)\n",
    "    logregs.append(logreg)\n",
    "    print(i)"
   ]
  },
  {
   "cell_type": "code",
   "execution_count": 336,
   "metadata": {},
   "outputs": [
    {
     "name": "stdout",
     "output_type": "stream",
     "text": [
      "0\n",
      "1\n",
      "2\n"
     ]
    }
   ],
   "source": [
    "train_accs = []\n",
    "val_accs = []\n",
    "test_accs = []\n",
    "\n",
    "for i in range(3):\n",
    "    train_accs.append(logregs[i].score(mushroom_X_train_20[i], mushroom_Y_train_20[i]))\n",
    "    val_accs.append(logregs[i].score(mushroom_X_train_20[i], mushroom_Y_train_20[i]))\n",
    "    test_accs.append(logregs[i].score(mushroom_X_test_80[i], mushroom_Y_test_80[i]))\n",
    "    print(i)\n"
   ]
  },
  {
   "cell_type": "code",
   "execution_count": 337,
   "metadata": {},
   "outputs": [
    {
     "name": "stdout",
     "output_type": "stream",
     "text": [
      "Best Accuracy: 0.999\n"
     ]
    }
   ],
   "source": [
    "accs = []\n",
    "\n",
    "for i in range(3):\n",
    "    accs.append((train_accs[i] + val_accs[i] + test_accs[i])/3)\n",
    "\n",
    "print('Best Accuracy: ' + str(max(accs)))"
   ]
  },
  {
   "cell_type": "markdown",
   "metadata": {},
   "source": [
    "### Wine"
   ]
  },
  {
   "cell_type": "markdown",
   "metadata": {},
   "source": [
    "#### 80 / 20"
   ]
  },
  {
   "cell_type": "code",
   "execution_count": 290,
   "metadata": {},
   "outputs": [
    {
     "name": "stdout",
     "output_type": "stream",
     "text": [
      "0\n",
      "1\n",
      "2\n"
     ]
    }
   ],
   "source": [
    "logregs = []\n",
    "\n",
    "for i in range(3):\n",
    "    logreg = LogisticRegressionCV(Cs= C_list, solver='liblinear', multi_class='ovr', n_jobs=-1, cv=5)\n",
    "    logreg.fit(wine_X_train_80[i].values, wine_Y_train_80[i].values)\n",
    "    logregs.append(logreg)\n",
    "    print(i)"
   ]
  },
  {
   "cell_type": "code",
   "execution_count": 291,
   "metadata": {},
   "outputs": [
    {
     "name": "stdout",
     "output_type": "stream",
     "text": [
      "0\n",
      "1\n",
      "2\n"
     ]
    }
   ],
   "source": [
    "train_accs = []\n",
    "val_accs = []\n",
    "test_accs = []\n",
    "\n",
    "for i in range(3):\n",
    "    train_accs.append(logregs[i].score(wine_X_train_80[i], wine_Y_train_80[i]))\n",
    "    val_accs.append(logregs[i].score(wine_X_train_80[i], wine_Y_train_80[i]))\n",
    "    test_accs.append(logregs[i].score(wine_X_test_20[i], wine_Y_test_20[i]))\n",
    "    print(i)\n"
   ]
  },
  {
   "cell_type": "code",
   "execution_count": 292,
   "metadata": {},
   "outputs": [
    {
     "name": "stdout",
     "output_type": "stream",
     "text": [
      "Best Accuracy: 0.72375\n"
     ]
    }
   ],
   "source": [
    "accs = []\n",
    "\n",
    "for i in range(3):\n",
    "    accs.append((train_accs[i] + val_accs[i] + test_accs[i])/3)\n",
    "\n",
    "print('Best Accuracy: ' + str(max(accs)))"
   ]
  },
  {
   "cell_type": "markdown",
   "metadata": {},
   "source": [
    "#### 50 / 50"
   ]
  },
  {
   "cell_type": "code",
   "execution_count": 293,
   "metadata": {},
   "outputs": [
    {
     "name": "stdout",
     "output_type": "stream",
     "text": [
      "0\n",
      "1\n",
      "2\n"
     ]
    }
   ],
   "source": [
    "logregs = []\n",
    "\n",
    "for i in range(3):\n",
    "    logreg = LogisticRegressionCV(Cs= C_list, solver='liblinear', multi_class='ovr', n_jobs=-1, cv=5)\n",
    "    logreg.fit(wine_X_train_50[i].values, wine_Y_train_50[i].values)\n",
    "    logregs.append(logreg)\n",
    "    print(i)"
   ]
  },
  {
   "cell_type": "code",
   "execution_count": 294,
   "metadata": {},
   "outputs": [
    {
     "name": "stdout",
     "output_type": "stream",
     "text": [
      "0\n",
      "1\n",
      "2\n"
     ]
    }
   ],
   "source": [
    "train_accs = []\n",
    "val_accs = []\n",
    "test_accs = []\n",
    "\n",
    "for i in range(3):\n",
    "    train_accs.append(logregs[i].score(wine_X_train_50[i], wine_Y_train_50[i]))\n",
    "    val_accs.append(logregs[i].score(wine_X_train_50[i], wine_Y_train_50[i]))\n",
    "    test_accs.append(logregs[i].score(wine_X_test_50[i], wine_Y_test_50[i]))\n",
    "    print(i)\n"
   ]
  },
  {
   "cell_type": "code",
   "execution_count": 295,
   "metadata": {},
   "outputs": [
    {
     "name": "stdout",
     "output_type": "stream",
     "text": [
      "Best Accuracy: 0.731\n"
     ]
    }
   ],
   "source": [
    "accs = []\n",
    "\n",
    "for i in range(3):\n",
    "    accs.append((train_accs[i] + val_accs[i] + test_accs[i])/3)\n",
    "\n",
    "print('Best Accuracy: ' + str(max(accs)))"
   ]
  },
  {
   "cell_type": "markdown",
   "metadata": {},
   "source": [
    "#### 20 / 80"
   ]
  },
  {
   "cell_type": "code",
   "execution_count": 287,
   "metadata": {},
   "outputs": [
    {
     "name": "stdout",
     "output_type": "stream",
     "text": [
      "0\n",
      "1\n",
      "2\n"
     ]
    }
   ],
   "source": [
    "logregs = []\n",
    "\n",
    "for i in range(3):\n",
    "    logreg = LogisticRegressionCV(Cs= C_list, solver='liblinear', multi_class='ovr', n_jobs=-1, cv=5)\n",
    "    logreg.fit(wine_X_train_20[i].values, wine_Y_train_20[i].values)\n",
    "    logregs.append(logreg)\n",
    "    print(i)"
   ]
  },
  {
   "cell_type": "code",
   "execution_count": 288,
   "metadata": {},
   "outputs": [
    {
     "name": "stdout",
     "output_type": "stream",
     "text": [
      "0\n",
      "1\n",
      "2\n"
     ]
    }
   ],
   "source": [
    "train_accs = []\n",
    "val_accs = []\n",
    "test_accs = []\n",
    "\n",
    "for i in range(3):\n",
    "    train_accs.append(logregs[i].score(wine_X_train_20[i], wine_Y_train_20[i]))\n",
    "    val_accs.append(logregs[i].score(wine_X_train_20[i], wine_Y_train_20[i]))\n",
    "    test_accs.append(logregs[i].score(wine_X_test_80[i], wine_Y_test_80[i]))\n",
    "    print(i)\n"
   ]
  },
  {
   "cell_type": "code",
   "execution_count": 289,
   "metadata": {},
   "outputs": [
    {
     "name": "stdout",
     "output_type": "stream",
     "text": [
      "Best Accuracy: 0.7170833333333334\n"
     ]
    }
   ],
   "source": [
    "accs = []\n",
    "\n",
    "for i in range(3):\n",
    "    accs.append((train_accs[i] + val_accs[i] + test_accs[i])/3)\n",
    "\n",
    "print('Best Accuracy: ' + str(max(accs)))"
   ]
  },
  {
   "cell_type": "markdown",
   "metadata": {},
   "source": [
    "### Dota"
   ]
  },
  {
   "cell_type": "markdown",
   "metadata": {},
   "source": [
    "#### 80 / 20"
   ]
  },
  {
   "cell_type": "code",
   "execution_count": 165,
   "metadata": {},
   "outputs": [
    {
     "name": "stdout",
     "output_type": "stream",
     "text": [
      "0\n",
      "1\n",
      "2\n"
     ]
    }
   ],
   "source": [
    "logregs = []\n",
    "\n",
    "for i in range(3):\n",
    "    logreg = LogisticRegressionCV(Cs= C_list, solver='liblinear', multi_class='ovr', n_jobs=-1, cv=5)\n",
    "    logreg.fit(dota_X_train_80[i].values, dota_Y_train_80[i].values)\n",
    "    logregs.append(logreg)\n",
    "    print(i)"
   ]
  },
  {
   "cell_type": "code",
   "execution_count": 166,
   "metadata": {},
   "outputs": [
    {
     "name": "stdout",
     "output_type": "stream",
     "text": [
      "0\n",
      "1\n",
      "2\n"
     ]
    }
   ],
   "source": [
    "train_accs = []\n",
    "val_accs = []\n",
    "test_accs = []\n",
    "\n",
    "for i in range(3):\n",
    "    train_accs.append(logregs[i].score(dota_X_train_80[i], dota_Y_train_80[i]))\n",
    "    val_accs.append(logregs[i].score(dota_X_train_80[i], dota_Y_train_80[i]))\n",
    "    test_accs.append(logregs[i].score(dota_X_test_20[i], dota_Y_test_20[i]))\n",
    "    print(i)\n"
   ]
  },
  {
   "cell_type": "code",
   "execution_count": 167,
   "metadata": {},
   "outputs": [
    {
     "name": "stdout",
     "output_type": "stream",
     "text": [
      "Best Accuracy: 0.6168333333333333\n"
     ]
    }
   ],
   "source": [
    "accs = []\n",
    "\n",
    "for i in range(3):\n",
    "    accs.append((train_accs[i] + val_accs[i] + test_accs[i])/3)\n",
    "\n",
    "print('Best Accuracy: ' + str(max(accs)))"
   ]
  },
  {
   "cell_type": "markdown",
   "metadata": {},
   "source": [
    "#### 50 / 50"
   ]
  },
  {
   "cell_type": "code",
   "execution_count": 168,
   "metadata": {},
   "outputs": [
    {
     "name": "stdout",
     "output_type": "stream",
     "text": [
      "0\n",
      "1\n",
      "2\n"
     ]
    }
   ],
   "source": [
    "logregs = []\n",
    "\n",
    "for i in range(3):\n",
    "    logreg = LogisticRegressionCV(Cs= C_list, solver='liblinear', multi_class='ovr', n_jobs=-1, cv=5)\n",
    "    logreg.fit(dota_X_train_50[i].values, dota_Y_train_50[i].values)\n",
    "    logregs.append(logreg)\n",
    "    print(i)"
   ]
  },
  {
   "cell_type": "code",
   "execution_count": 169,
   "metadata": {},
   "outputs": [
    {
     "name": "stdout",
     "output_type": "stream",
     "text": [
      "0\n",
      "1\n",
      "2\n"
     ]
    }
   ],
   "source": [
    "train_accs = []\n",
    "val_accs = []\n",
    "test_accs = []\n",
    "\n",
    "for i in range(3):\n",
    "    train_accs.append(logregs[i].score(dota_X_train_50[i], dota_Y_train_50[i]))\n",
    "    val_accs.append(logregs[i].score(dota_X_train_50[i], dota_Y_train_50[i]))\n",
    "    test_accs.append(logregs[i].score(dota_X_test_50[i], dota_Y_test_50[i]))\n",
    "    print(i)\n"
   ]
  },
  {
   "cell_type": "code",
   "execution_count": 170,
   "metadata": {},
   "outputs": [
    {
     "name": "stdout",
     "output_type": "stream",
     "text": [
      "Best Accuracy: 0.6244\n"
     ]
    }
   ],
   "source": [
    "accs = []\n",
    "\n",
    "for i in range(3):\n",
    "    accs.append((train_accs[i] + val_accs[i] + test_accs[i])/3)\n",
    "\n",
    "print('Best Accuracy: ' + str(max(accs)))"
   ]
  },
  {
   "cell_type": "markdown",
   "metadata": {},
   "source": [
    "#### 20 / 80"
   ]
  },
  {
   "cell_type": "code",
   "execution_count": 171,
   "metadata": {},
   "outputs": [
    {
     "name": "stdout",
     "output_type": "stream",
     "text": [
      "0\n",
      "1\n",
      "2\n"
     ]
    }
   ],
   "source": [
    "logregs = []\n",
    "\n",
    "for i in range(3):\n",
    "    logreg = LogisticRegressionCV(Cs= C_list, solver='liblinear', multi_class='ovr', n_jobs=-1, cv=5)\n",
    "    logreg.fit(dota_X_train_20[i].values, dota_Y_train_20[i].values)\n",
    "    logregs.append(logreg)\n",
    "    print(i)"
   ]
  },
  {
   "cell_type": "code",
   "execution_count": 172,
   "metadata": {},
   "outputs": [
    {
     "name": "stdout",
     "output_type": "stream",
     "text": [
      "0\n",
      "1\n",
      "2\n"
     ]
    }
   ],
   "source": [
    "train_accs = []\n",
    "val_accs = []\n",
    "test_accs = []\n",
    "\n",
    "for i in range(3):\n",
    "    train_accs.append(logregs[i].score(dota_X_train_20[i], dota_Y_train_20[i]))\n",
    "    val_accs.append(logregs[i].score(dota_X_train_20[i], dota_Y_train_20[i]))\n",
    "    test_accs.append(logregs[i].score(dota_X_test_80[i], dota_Y_test_80[i]))\n",
    "    print(i)\n"
   ]
  },
  {
   "cell_type": "code",
   "execution_count": 173,
   "metadata": {},
   "outputs": [
    {
     "name": "stdout",
     "output_type": "stream",
     "text": [
      "Best Accuracy: 0.6466666666666666\n"
     ]
    }
   ],
   "source": [
    "accs = []\n",
    "\n",
    "for i in range(3):\n",
    "    accs.append((train_accs[i] + val_accs[i] + test_accs[i])/3)\n",
    "\n",
    "print('Best Accuracy: ' + str(max(accs)))"
   ]
  },
  {
   "cell_type": "markdown",
   "metadata": {},
   "source": [
    "# Random Forest"
   ]
  },
  {
   "cell_type": "markdown",
   "metadata": {},
   "source": [
    "### Mushroom"
   ]
  },
  {
   "cell_type": "markdown",
   "metadata": {},
   "source": [
    "#### 80 / 20"
   ]
  },
  {
   "cell_type": "code",
   "execution_count": 174,
   "metadata": {},
   "outputs": [
    {
     "name": "stdout",
     "output_type": "stream",
     "text": [
      "0\n",
      "1\n",
      "2\n"
     ]
    }
   ],
   "source": [
    "rfs = []\n",
    "\n",
    "for i in range(3):\n",
    "    rf = RandomForestClassifier(n_estimators=100)\n",
    "    rf.fit(mushroom_X_train_80[i].values, mushroom_Y_train_80[i].values)\n",
    "    rfs.append(rf)\n",
    "    print(i)"
   ]
  },
  {
   "cell_type": "code",
   "execution_count": 189,
   "metadata": {},
   "outputs": [
    {
     "name": "stdout",
     "output_type": "stream",
     "text": [
      "0\n",
      "1\n",
      "2\n"
     ]
    }
   ],
   "source": [
    "train_accs = []\n",
    "val_accs = []\n",
    "test_accs = []\n",
    "\n",
    "for i in range(3):\n",
    "    train_accs.append(rfs[i].score(mushroom_X_train_80[i], mushroom_Y_train_80[i]))\n",
    "    val_accs.append(rfs[i].score(mushroom_X_train_80[i], mushroom_Y_train_80[i]))\n",
    "    test_accs.append(rfs[i].score(mushroom_X_test_20[i], mushroom_Y_test_20[i]))\n",
    "    print(i)\n"
   ]
  },
  {
   "cell_type": "code",
   "execution_count": 191,
   "metadata": {},
   "outputs": [
    {
     "name": "stdout",
     "output_type": "stream",
     "text": [
      "Best Accuracy: 1.0\n"
     ]
    }
   ],
   "source": [
    "accs = []\n",
    "\n",
    "for i in range(3):\n",
    "    accs.append((train_accs[i] + val_accs[i] + test_accs[i])/3)\n",
    "\n",
    "print('Best Accuracy: ' + str(max(accs)))"
   ]
  },
  {
   "cell_type": "markdown",
   "metadata": {},
   "source": [
    "#### 50 / 50"
   ]
  },
  {
   "cell_type": "code",
   "execution_count": 192,
   "metadata": {},
   "outputs": [
    {
     "name": "stdout",
     "output_type": "stream",
     "text": [
      "0\n",
      "1\n",
      "2\n"
     ]
    }
   ],
   "source": [
    "rfs = []\n",
    "\n",
    "for i in range(3):\n",
    "    rf = RandomForestClassifier(n_estimators=100)\n",
    "    rf.fit(mushroom_X_train_50[i].values, mushroom_Y_train_50[i].values)\n",
    "    rfs.append(rf)\n",
    "    print(i)"
   ]
  },
  {
   "cell_type": "code",
   "execution_count": 193,
   "metadata": {},
   "outputs": [
    {
     "name": "stdout",
     "output_type": "stream",
     "text": [
      "0\n",
      "1\n",
      "2\n"
     ]
    }
   ],
   "source": [
    "train_accs = []\n",
    "val_accs = []\n",
    "test_accs = []\n",
    "\n",
    "for i in range(3):\n",
    "    train_accs.append(rfs[i].score(mushroom_X_train_50[i], mushroom_Y_train_50[i]))\n",
    "    val_accs.append(rfs[i].score(mushroom_X_train_50[i], mushroom_Y_train_50[i]))\n",
    "    test_accs.append(rfs[i].score(mushroom_X_test_50[i], mushroom_Y_test_50[i]))\n",
    "    print(i)\n"
   ]
  },
  {
   "cell_type": "code",
   "execution_count": 194,
   "metadata": {},
   "outputs": [
    {
     "name": "stdout",
     "output_type": "stream",
     "text": [
      "Best Accuracy: 1.0\n"
     ]
    }
   ],
   "source": [
    "accs = []\n",
    "\n",
    "for i in range(3):\n",
    "    accs.append((train_accs[i] + val_accs[i] + test_accs[i])/3)\n",
    "\n",
    "print('Best Accuracy: ' + str(max(accs)))"
   ]
  },
  {
   "cell_type": "markdown",
   "metadata": {},
   "source": [
    "#### 20 / 80"
   ]
  },
  {
   "cell_type": "code",
   "execution_count": 195,
   "metadata": {},
   "outputs": [
    {
     "name": "stdout",
     "output_type": "stream",
     "text": [
      "0\n",
      "1\n",
      "2\n"
     ]
    }
   ],
   "source": [
    "rfs = []\n",
    "\n",
    "for i in range(3):\n",
    "    rf = RandomForestClassifier(n_estimators=100)\n",
    "    rf.fit(mushroom_X_train_20[i].values, mushroom_Y_train_20[i].values)\n",
    "    rfs.append(rf)\n",
    "    print(i)"
   ]
  },
  {
   "cell_type": "code",
   "execution_count": 196,
   "metadata": {},
   "outputs": [
    {
     "name": "stdout",
     "output_type": "stream",
     "text": [
      "0\n",
      "1\n",
      "2\n"
     ]
    }
   ],
   "source": [
    "train_accs = []\n",
    "val_accs = []\n",
    "test_accs = []\n",
    "\n",
    "for i in range(3):\n",
    "    train_accs.append(rfs[i].score(mushroom_X_train_20[i], mushroom_Y_train_20[i]))\n",
    "    val_accs.append(rfs[i].score(mushroom_X_train_20[i], mushroom_Y_train_20[i]))\n",
    "    test_accs.append(rfs[i].score(mushroom_X_test_80[i], mushroom_Y_test_80[i]))\n",
    "    print(i)\n"
   ]
  },
  {
   "cell_type": "code",
   "execution_count": 197,
   "metadata": {},
   "outputs": [
    {
     "name": "stdout",
     "output_type": "stream",
     "text": [
      "Best Accuracy: 1.0\n"
     ]
    }
   ],
   "source": [
    "accs = []\n",
    "\n",
    "for i in range(3):\n",
    "    accs.append((train_accs[i] + val_accs[i] + test_accs[i])/3)\n",
    "\n",
    "print('Best Accuracy: ' + str(max(accs)))"
   ]
  },
  {
   "cell_type": "markdown",
   "metadata": {},
   "source": [
    "### Wine"
   ]
  },
  {
   "cell_type": "markdown",
   "metadata": {},
   "source": [
    "#### 80 / 20"
   ]
  },
  {
   "cell_type": "code",
   "execution_count": 198,
   "metadata": {},
   "outputs": [
    {
     "name": "stdout",
     "output_type": "stream",
     "text": [
      "0\n",
      "1\n",
      "2\n"
     ]
    }
   ],
   "source": [
    "rfs = []\n",
    "\n",
    "for i in range(3):\n",
    "    rf = RandomForestClassifier(n_estimators=100)\n",
    "    rf.fit(wine_X_train_80[i].values, wine_Y_train_80[i].values)\n",
    "    rfs.append(rf)\n",
    "    print(i)"
   ]
  },
  {
   "cell_type": "code",
   "execution_count": 200,
   "metadata": {},
   "outputs": [
    {
     "name": "stdout",
     "output_type": "stream",
     "text": [
      "0\n",
      "1\n",
      "2\n"
     ]
    }
   ],
   "source": [
    "train_accs = []\n",
    "val_accs = []\n",
    "test_accs = []\n",
    "\n",
    "for i in range(3):\n",
    "    train_accs.append(rfs[i].score(wine_X_train_80[i], wine_Y_train_80[i]))\n",
    "    val_accs.append(rfs[i].score(wine_X_train_80[i], wine_Y_train_80[i]))\n",
    "    test_accs.append(rfs[i].score(wine_X_test_20[i], wine_Y_test_20[i]))\n",
    "    print(i)\n"
   ]
  },
  {
   "cell_type": "code",
   "execution_count": 201,
   "metadata": {},
   "outputs": [
    {
     "name": "stdout",
     "output_type": "stream",
     "text": [
      "Best Accuracy: 0.8975\n"
     ]
    }
   ],
   "source": [
    "accs = []\n",
    "\n",
    "for i in range(3):\n",
    "    accs.append((train_accs[i] + val_accs[i] + test_accs[i])/3)\n",
    "\n",
    "print('Best Accuracy: ' + str(max(accs)))"
   ]
  },
  {
   "cell_type": "markdown",
   "metadata": {},
   "source": [
    "#### 50 / 50"
   ]
  },
  {
   "cell_type": "code",
   "execution_count": 202,
   "metadata": {},
   "outputs": [
    {
     "name": "stdout",
     "output_type": "stream",
     "text": [
      "0\n",
      "1\n",
      "2\n"
     ]
    }
   ],
   "source": [
    "rfs = []\n",
    "\n",
    "for i in range(3):\n",
    "    rf = RandomForestClassifier(n_estimators=100)\n",
    "    rf.fit(wine_X_train_50[i].values, wine_Y_train_50[i].values)\n",
    "    rfs.append(rf)\n",
    "    print(i)"
   ]
  },
  {
   "cell_type": "code",
   "execution_count": 203,
   "metadata": {},
   "outputs": [
    {
     "name": "stdout",
     "output_type": "stream",
     "text": [
      "0\n",
      "1\n",
      "2\n"
     ]
    }
   ],
   "source": [
    "train_accs = []\n",
    "val_accs = []\n",
    "test_accs = []\n",
    "\n",
    "for i in range(3):\n",
    "    train_accs.append(rfs[i].score(wine_X_train_50[i], wine_Y_train_50[i]))\n",
    "    val_accs.append(rfs[i].score(wine_X_train_50[i], wine_Y_train_50[i]))\n",
    "    test_accs.append(rfs[i].score(wine_X_test_50[i], wine_Y_test_50[i]))\n",
    "    print(i)\n"
   ]
  },
  {
   "cell_type": "code",
   "execution_count": 204,
   "metadata": {},
   "outputs": [
    {
     "name": "stdout",
     "output_type": "stream",
     "text": [
      "Best Accuracy: 0.868\n"
     ]
    }
   ],
   "source": [
    "accs = []\n",
    "\n",
    "for i in range(3):\n",
    "    accs.append((train_accs[i] + val_accs[i] + test_accs[i])/3)\n",
    "\n",
    "print('Best Accuracy: ' + str(max(accs)))"
   ]
  },
  {
   "cell_type": "markdown",
   "metadata": {},
   "source": [
    "#### 20 / 80"
   ]
  },
  {
   "cell_type": "code",
   "execution_count": 205,
   "metadata": {},
   "outputs": [
    {
     "name": "stdout",
     "output_type": "stream",
     "text": [
      "0\n",
      "1\n",
      "2\n"
     ]
    }
   ],
   "source": [
    "rfs = []\n",
    "\n",
    "for i in range(3):\n",
    "    rf = RandomForestClassifier(n_estimators=100)\n",
    "    rf.fit(wine_X_train_20[i].values, wine_Y_train_20[i].values)\n",
    "    rfs.append(rf)\n",
    "    print(i)"
   ]
  },
  {
   "cell_type": "code",
   "execution_count": 208,
   "metadata": {},
   "outputs": [
    {
     "name": "stdout",
     "output_type": "stream",
     "text": [
      "0\n",
      "1\n",
      "2\n"
     ]
    }
   ],
   "source": [
    "train_accs = []\n",
    "val_accs = []\n",
    "test_accs = []\n",
    "\n",
    "for i in range(3):\n",
    "    train_accs.append(rfs[i].score(wine_X_train_20[i], wine_Y_train_20[i]))\n",
    "    val_accs.append(rfs[i].score(wine_X_train_20[i], wine_Y_train_20[i]))\n",
    "    test_accs.append(rfs[i].score(wine_X_test_80[i], wine_Y_test_80[i]))\n",
    "    print(i)\n"
   ]
  },
  {
   "cell_type": "code",
   "execution_count": 209,
   "metadata": {},
   "outputs": [
    {
     "name": "stdout",
     "output_type": "stream",
     "text": [
      "Best Accuracy: 0.8470833333333333\n"
     ]
    }
   ],
   "source": [
    "accs = []\n",
    "\n",
    "for i in range(3):\n",
    "    accs.append((train_accs[i] + val_accs[i] + test_accs[i])/3)\n",
    "\n",
    "print('Best Accuracy: ' + str(max(accs)))"
   ]
  },
  {
   "cell_type": "markdown",
   "metadata": {},
   "source": [
    "### Dota"
   ]
  },
  {
   "cell_type": "markdown",
   "metadata": {},
   "source": [
    "#### 80 / 20"
   ]
  },
  {
   "cell_type": "code",
   "execution_count": 228,
   "metadata": {},
   "outputs": [
    {
     "name": "stdout",
     "output_type": "stream",
     "text": [
      "0\n",
      "1\n",
      "2\n"
     ]
    }
   ],
   "source": [
    "rfs = []\n",
    "\n",
    "for i in range(3):\n",
    "    rf = RandomForestClassifier(n_estimators=100)\n",
    "    rf.fit(dota_X_train_80[i].values, dota_Y_train_80[i].values)\n",
    "    rfs.append(rf)\n",
    "    print(i)"
   ]
  },
  {
   "cell_type": "code",
   "execution_count": 229,
   "metadata": {},
   "outputs": [
    {
     "name": "stdout",
     "output_type": "stream",
     "text": [
      "0\n",
      "1\n",
      "2\n"
     ]
    }
   ],
   "source": [
    "train_accs = []\n",
    "val_accs = []\n",
    "test_accs = []\n",
    "\n",
    "for i in range(3):\n",
    "    train_accs.append(rfs[i].score(dota_X_train_80[i], dota_Y_train_80[i]))\n",
    "    val_accs.append(rfs[i].score(dota_X_train_80[i], dota_Y_train_80[i]))\n",
    "    test_accs.append(rfs[i].score(dota_X_test_20[i], dota_Y_test_20[i]))\n",
    "    print(i)\n"
   ]
  },
  {
   "cell_type": "code",
   "execution_count": 230,
   "metadata": {},
   "outputs": [
    {
     "name": "stdout",
     "output_type": "stream",
     "text": [
      "Best Accuracy: 0.8546666666666667\n"
     ]
    }
   ],
   "source": [
    "accs = []\n",
    "\n",
    "for i in range(3):\n",
    "    accs.append((train_accs[i] + val_accs[i] + test_accs[i])/3)\n",
    "\n",
    "print('Best Accuracy: ' + str(max(accs)))"
   ]
  },
  {
   "cell_type": "markdown",
   "metadata": {},
   "source": [
    "#### 50 / 50"
   ]
  },
  {
   "cell_type": "code",
   "execution_count": 213,
   "metadata": {},
   "outputs": [
    {
     "name": "stdout",
     "output_type": "stream",
     "text": [
      "0\n",
      "1\n",
      "2\n"
     ]
    }
   ],
   "source": [
    "rfs = []\n",
    "\n",
    "for i in range(3):\n",
    "    rf = RandomForestClassifier(n_estimators=100)\n",
    "    rf.fit(dota_X_train_50[i].values, dota_Y_train_50[i].values)\n",
    "    rfs.append(rf)\n",
    "    print(i)"
   ]
  },
  {
   "cell_type": "code",
   "execution_count": 214,
   "metadata": {},
   "outputs": [
    {
     "name": "stdout",
     "output_type": "stream",
     "text": [
      "0\n",
      "1\n",
      "2\n"
     ]
    }
   ],
   "source": [
    "train_accs = []\n",
    "val_accs = []\n",
    "test_accs = []\n",
    "\n",
    "for i in range(3):\n",
    "    train_accs.append(rfs[i].score(dota_X_train_50[i], dota_Y_train_50[i]))\n",
    "    val_accs.append(rfs[i].score(dota_X_train_50[i], dota_Y_train_50[i]))\n",
    "    test_accs.append(rfs[i].score(dota_X_test_50[i], dota_Y_test_50[i]))\n",
    "    print(i)\n"
   ]
  },
  {
   "cell_type": "code",
   "execution_count": 215,
   "metadata": {},
   "outputs": [
    {
     "name": "stdout",
     "output_type": "stream",
     "text": [
      "Best Accuracy: 0.8525333333333333\n"
     ]
    }
   ],
   "source": [
    "accs = []\n",
    "\n",
    "for i in range(3):\n",
    "    accs.append((train_accs[i] + val_accs[i] + test_accs[i])/3)\n",
    "\n",
    "print('Best Accuracy: ' + str(max(accs)))"
   ]
  },
  {
   "cell_type": "markdown",
   "metadata": {},
   "source": [
    "#### 20 / 80"
   ]
  },
  {
   "cell_type": "code",
   "execution_count": 216,
   "metadata": {},
   "outputs": [
    {
     "name": "stdout",
     "output_type": "stream",
     "text": [
      "0\n",
      "1\n",
      "2\n"
     ]
    }
   ],
   "source": [
    "rfs = []\n",
    "\n",
    "for i in range(3):\n",
    "    rf = RandomForestClassifier(n_estimators=100)\n",
    "    rf.fit(dota_X_train_20[i].values, dota_Y_train_20[i].values)\n",
    "    rfs.append(rf)\n",
    "    print(i)"
   ]
  },
  {
   "cell_type": "code",
   "execution_count": 217,
   "metadata": {},
   "outputs": [
    {
     "name": "stdout",
     "output_type": "stream",
     "text": [
      "0\n",
      "1\n",
      "2\n"
     ]
    }
   ],
   "source": [
    "train_accs = []\n",
    "val_accs = []\n",
    "test_accs = []\n",
    "\n",
    "for i in range(3):\n",
    "    train_accs.append(rfs[i].score(dota_X_train_20[i], dota_Y_train_20[i]))\n",
    "    val_accs.append(rfs[i].score(dota_X_train_20[i], dota_Y_train_20[i]))\n",
    "    test_accs.append(rfs[i].score(dota_X_test_80[i], dota_Y_test_80[i]))\n",
    "    print(i)\n"
   ]
  },
  {
   "cell_type": "code",
   "execution_count": 218,
   "metadata": {},
   "outputs": [
    {
     "name": "stdout",
     "output_type": "stream",
     "text": [
      "Best Accuracy: 0.8496666666666667\n"
     ]
    }
   ],
   "source": [
    "accs = []\n",
    "\n",
    "for i in range(3):\n",
    "    accs.append((train_accs[i] + val_accs[i] + test_accs[i])/3)\n",
    "\n",
    "print('Best Accuracy: ' + str(max(accs)))"
   ]
  },
  {
   "cell_type": "code",
   "execution_count": null,
   "metadata": {},
   "outputs": [],
   "source": []
  }
 ],
 "metadata": {
  "kernelspec": {
   "display_name": "Python 3",
   "language": "python",
   "name": "python3"
  },
  "language_info": {
   "codemirror_mode": {
    "name": "ipython",
    "version": 3
   },
   "file_extension": ".py",
   "mimetype": "text/x-python",
   "name": "python",
   "nbconvert_exporter": "python",
   "pygments_lexer": "ipython3",
   "version": "3.7.3"
  }
 },
 "nbformat": 4,
 "nbformat_minor": 2
}
